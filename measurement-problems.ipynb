{
 "cells": [
  {
   "cell_type": "markdown",
   "id": "3e92ea73",
   "metadata": {
    "papermill": {
     "duration": 0.011938,
     "end_time": "2023-11-08T12:32:24.992543",
     "exception": false,
     "start_time": "2023-11-08T12:32:24.980605",
     "status": "completed"
    },
    "tags": []
   },
   "source": [
    "# <p style=\"background-color:lightgray; font-family:verdana; font-size:250%; text-align:center; border-radius: 15px 20px;\">🟠Measurement Problems🟠</p>"
   ]
  },
  {
   "cell_type": "markdown",
   "id": "31216d11",
   "metadata": {
    "papermill": {
     "duration": 0.011128,
     "end_time": "2023-11-08T12:32:25.015871",
     "exception": false,
     "start_time": "2023-11-08T12:32:25.004743",
     "status": "completed"
    },
    "tags": []
   },
   "source": [
    "<div style=\"border-radius:10px; border:#D0C2F0 solid; padding: 15px; background-color: #FFF0F4; font-size:100%; text-align:left\">\n",
    "\n",
    "<h3 align=\"left\"><font color='#5E5273'>🔍 Why Measurement Problems are important?</font></h3>"
   ]
  },
  {
   "cell_type": "markdown",
   "id": "e9e9b483",
   "metadata": {
    "papermill": {
     "duration": 0.01107,
     "end_time": "2023-11-08T12:32:25.038343",
     "exception": false,
     "start_time": "2023-11-08T12:32:25.027273",
     "status": "completed"
    },
    "tags": []
   },
   "source": [
    "### A user's decision to purchase a product is shaped by social proof, known as \"the wisdom of crowds.\"\n",
    "\n",
    "> Let's say we are about to buy a product and we are stuck between two options. The first product has received a 5-star rating, while the second product has received a 4-star rating. We would prefer to purchase the product that has been rated with 5 stars. \n",
    "\n",
    ">  Let's change our scenario a bit. Seven people have endorsed the product with a 5-star rating, while 256 people have endorsed the 4-star product. Now, we would switch our choice from the product with 5 stars to the 4-star product. \n",
    "\n",
    "> This illustrates how the strength of social proof can outweigh other features, even when we are certain of its flaws. We tend to prefer those with more votes and comments. It is crucial to make the right ranking in order for the user to reach the best product in terms of price and performance, and for the seller to deliver the products to the users in the most accurate way possible."
   ]
  },
  {
   "cell_type": "markdown",
   "id": "275032a1",
   "metadata": {
    "papermill": {
     "duration": 0.0112,
     "end_time": "2023-11-08T12:32:25.061245",
     "exception": false,
     "start_time": "2023-11-08T12:32:25.050045",
     "status": "completed"
    },
    "tags": []
   },
   "source": [
    "# <p style=\"border-radius:10px; border:#DEB887 solid; padding:25px; background-color: #FFFAF0; font-size:100%;color:#52017A;text-align:center;\"> Rating Product  </p>"
   ]
  },
  {
   "cell_type": "code",
   "execution_count": 1,
   "id": "136f9afa",
   "metadata": {
    "execution": {
     "iopub.execute_input": "2023-11-08T12:32:25.086407Z",
     "iopub.status.busy": "2023-11-08T12:32:25.085652Z",
     "iopub.status.idle": "2023-11-08T12:32:26.568661Z",
     "shell.execute_reply": "2023-11-08T12:32:26.567486Z"
    },
    "papermill": {
     "duration": 1.498629,
     "end_time": "2023-11-08T12:32:26.571395",
     "exception": false,
     "start_time": "2023-11-08T12:32:25.072766",
     "status": "completed"
    },
    "tags": []
   },
   "outputs": [],
   "source": [
    "#importing libraries that we are going to use\n",
    "import pandas as pd\n",
    "import math\n",
    "import scipy.stats as st\n",
    "from sklearn.preprocessing import  MinMaxScaler"
   ]
  },
  {
   "cell_type": "code",
   "execution_count": 2,
   "id": "f3b75ec6",
   "metadata": {
    "execution": {
     "iopub.execute_input": "2023-11-08T12:32:26.597213Z",
     "iopub.status.busy": "2023-11-08T12:32:26.596677Z",
     "iopub.status.idle": "2023-11-08T12:32:26.651538Z",
     "shell.execute_reply": "2023-11-08T12:32:26.650358Z"
    },
    "papermill": {
     "duration": 0.070797,
     "end_time": "2023-11-08T12:32:26.653970",
     "exception": false,
     "start_time": "2023-11-08T12:32:26.583173",
     "status": "completed"
    },
    "tags": []
   },
   "outputs": [
    {
     "data": {
      "text/html": [
       "<div>\n",
       "<style scoped>\n",
       "    .dataframe tbody tr th:only-of-type {\n",
       "        vertical-align: middle;\n",
       "    }\n",
       "\n",
       "    .dataframe tbody tr th {\n",
       "        vertical-align: top;\n",
       "    }\n",
       "\n",
       "    .dataframe thead th {\n",
       "        text-align: right;\n",
       "    }\n",
       "</style>\n",
       "<table border=\"1\" class=\"dataframe\">\n",
       "  <thead>\n",
       "    <tr style=\"text-align: right;\">\n",
       "      <th></th>\n",
       "      <th>0</th>\n",
       "      <th>1</th>\n",
       "      <th>2</th>\n",
       "      <th>3</th>\n",
       "      <th>4</th>\n",
       "    </tr>\n",
       "  </thead>\n",
       "  <tbody>\n",
       "    <tr>\n",
       "      <th>Rating</th>\n",
       "      <td>5.0</td>\n",
       "      <td>5.0</td>\n",
       "      <td>4.5</td>\n",
       "      <td>5.0</td>\n",
       "      <td>4.0</td>\n",
       "    </tr>\n",
       "    <tr>\n",
       "      <th>Timestamp</th>\n",
       "      <td>2021-02-05 07:45:55</td>\n",
       "      <td>2021-02-04 21:05:32</td>\n",
       "      <td>2021-02-04 20:34:03</td>\n",
       "      <td>2021-02-04 16:56:28</td>\n",
       "      <td>2021-02-04 15:00:24</td>\n",
       "    </tr>\n",
       "    <tr>\n",
       "      <th>Enrolled</th>\n",
       "      <td>2021-01-25 15:12:08</td>\n",
       "      <td>2021-02-04 20:43:40</td>\n",
       "      <td>2019-07-04 23:23:27</td>\n",
       "      <td>2021-02-04 14:41:29</td>\n",
       "      <td>2020-10-13 03:10:07</td>\n",
       "    </tr>\n",
       "    <tr>\n",
       "      <th>Progress</th>\n",
       "      <td>5.0</td>\n",
       "      <td>1.0</td>\n",
       "      <td>1.0</td>\n",
       "      <td>10.0</td>\n",
       "      <td>10.0</td>\n",
       "    </tr>\n",
       "    <tr>\n",
       "      <th>Questions Asked</th>\n",
       "      <td>0.0</td>\n",
       "      <td>0.0</td>\n",
       "      <td>0.0</td>\n",
       "      <td>0.0</td>\n",
       "      <td>0.0</td>\n",
       "    </tr>\n",
       "    <tr>\n",
       "      <th>Questions Answered</th>\n",
       "      <td>0.0</td>\n",
       "      <td>0.0</td>\n",
       "      <td>0.0</td>\n",
       "      <td>0.0</td>\n",
       "      <td>0.0</td>\n",
       "    </tr>\n",
       "  </tbody>\n",
       "</table>\n",
       "</div>"
      ],
      "text/plain": [
       "                                      0                    1  \\\n",
       "Rating                              5.0                  5.0   \n",
       "Timestamp           2021-02-05 07:45:55  2021-02-04 21:05:32   \n",
       "Enrolled            2021-01-25 15:12:08  2021-02-04 20:43:40   \n",
       "Progress                            5.0                  1.0   \n",
       "Questions Asked                     0.0                  0.0   \n",
       "Questions Answered                  0.0                  0.0   \n",
       "\n",
       "                                      2                    3  \\\n",
       "Rating                              4.5                  5.0   \n",
       "Timestamp           2021-02-04 20:34:03  2021-02-04 16:56:28   \n",
       "Enrolled            2019-07-04 23:23:27  2021-02-04 14:41:29   \n",
       "Progress                            1.0                 10.0   \n",
       "Questions Asked                     0.0                  0.0   \n",
       "Questions Answered                  0.0                  0.0   \n",
       "\n",
       "                                      4  \n",
       "Rating                              4.0  \n",
       "Timestamp           2021-02-04 15:00:24  \n",
       "Enrolled            2020-10-13 03:10:07  \n",
       "Progress                           10.0  \n",
       "Questions Asked                     0.0  \n",
       "Questions Answered                  0.0  "
      ]
     },
     "execution_count": 2,
     "metadata": {},
     "output_type": "execute_result"
    }
   ],
   "source": [
    "#our data set is an online education platform's courses and their reviews\n",
    "df = pd.read_csv(\"/kaggle/input/private-dataset/course_reviews.csv\")\n",
    "df.head().T"
   ]
  },
  {
   "cell_type": "code",
   "execution_count": 3,
   "id": "e314f1b9",
   "metadata": {
    "execution": {
     "iopub.execute_input": "2023-11-08T12:32:26.680106Z",
     "iopub.status.busy": "2023-11-08T12:32:26.679655Z",
     "iopub.status.idle": "2023-11-08T12:32:26.695869Z",
     "shell.execute_reply": "2023-11-08T12:32:26.694984Z"
    },
    "papermill": {
     "duration": 0.031953,
     "end_time": "2023-11-08T12:32:26.698162",
     "exception": false,
     "start_time": "2023-11-08T12:32:26.666209",
     "status": "completed"
    },
    "tags": []
   },
   "outputs": [
    {
     "data": {
      "text/plain": [
       "Rating\n",
       "5.0    3267\n",
       "4.5     475\n",
       "4.0     383\n",
       "3.5      96\n",
       "3.0      62\n",
       "1.0      15\n",
       "2.0      12\n",
       "2.5      11\n",
       "1.5       2\n",
       "Name: count, dtype: int64"
      ]
     },
     "execution_count": 3,
     "metadata": {},
     "output_type": "execute_result"
    }
   ],
   "source": [
    "#Rating distribution / how many of each rating point\n",
    "df[\"Rating\"].value_counts()"
   ]
  },
  {
   "cell_type": "code",
   "execution_count": 4,
   "id": "6db9e4cb",
   "metadata": {
    "execution": {
     "iopub.execute_input": "2023-11-08T12:32:26.724227Z",
     "iopub.status.busy": "2023-11-08T12:32:26.723257Z",
     "iopub.status.idle": "2023-11-08T12:32:26.732823Z",
     "shell.execute_reply": "2023-11-08T12:32:26.731645Z"
    },
    "papermill": {
     "duration": 0.025074,
     "end_time": "2023-11-08T12:32:26.735144",
     "exception": false,
     "start_time": "2023-11-08T12:32:26.710070",
     "status": "completed"
    },
    "tags": []
   },
   "outputs": [
    {
     "data": {
      "text/plain": [
       "Questions Asked\n",
       "0.0     3867\n",
       "1.0      276\n",
       "2.0       80\n",
       "3.0       43\n",
       "4.0       15\n",
       "5.0       13\n",
       "6.0        9\n",
       "8.0        5\n",
       "9.0        3\n",
       "14.0       2\n",
       "11.0       2\n",
       "7.0        2\n",
       "10.0       2\n",
       "15.0       2\n",
       "22.0       1\n",
       "12.0       1\n",
       "Name: count, dtype: int64"
      ]
     },
     "execution_count": 4,
     "metadata": {},
     "output_type": "execute_result"
    }
   ],
   "source": [
    "#\"Distribution of asked questions / how many questions each person has asked\n",
    "df[\"Questions Asked\"].value_counts()"
   ]
  },
  {
   "cell_type": "code",
   "execution_count": 5,
   "id": "59bd1936",
   "metadata": {
    "execution": {
     "iopub.execute_input": "2023-11-08T12:32:26.762552Z",
     "iopub.status.busy": "2023-11-08T12:32:26.761775Z",
     "iopub.status.idle": "2023-11-08T12:32:26.782888Z",
     "shell.execute_reply": "2023-11-08T12:32:26.781706Z"
    },
    "papermill": {
     "duration": 0.036836,
     "end_time": "2023-11-08T12:32:26.785128",
     "exception": false,
     "start_time": "2023-11-08T12:32:26.748292",
     "status": "completed"
    },
    "tags": []
   },
   "outputs": [
    {
     "data": {
      "text/html": [
       "<div>\n",
       "<style scoped>\n",
       "    .dataframe tbody tr th:only-of-type {\n",
       "        vertical-align: middle;\n",
       "    }\n",
       "\n",
       "    .dataframe tbody tr th {\n",
       "        vertical-align: top;\n",
       "    }\n",
       "\n",
       "    .dataframe thead th {\n",
       "        text-align: right;\n",
       "    }\n",
       "</style>\n",
       "<table border=\"1\" class=\"dataframe\">\n",
       "  <thead>\n",
       "    <tr style=\"text-align: right;\">\n",
       "      <th></th>\n",
       "      <th>Questions Asked</th>\n",
       "      <th>Rating</th>\n",
       "    </tr>\n",
       "    <tr>\n",
       "      <th>Questions Asked</th>\n",
       "      <th></th>\n",
       "      <th></th>\n",
       "    </tr>\n",
       "  </thead>\n",
       "  <tbody>\n",
       "    <tr>\n",
       "      <th>0.0</th>\n",
       "      <td>3867</td>\n",
       "      <td>4.765193</td>\n",
       "    </tr>\n",
       "    <tr>\n",
       "      <th>1.0</th>\n",
       "      <td>276</td>\n",
       "      <td>4.740942</td>\n",
       "    </tr>\n",
       "    <tr>\n",
       "      <th>2.0</th>\n",
       "      <td>80</td>\n",
       "      <td>4.806250</td>\n",
       "    </tr>\n",
       "    <tr>\n",
       "      <th>3.0</th>\n",
       "      <td>43</td>\n",
       "      <td>4.744186</td>\n",
       "    </tr>\n",
       "    <tr>\n",
       "      <th>4.0</th>\n",
       "      <td>15</td>\n",
       "      <td>4.833333</td>\n",
       "    </tr>\n",
       "    <tr>\n",
       "      <th>5.0</th>\n",
       "      <td>13</td>\n",
       "      <td>4.653846</td>\n",
       "    </tr>\n",
       "    <tr>\n",
       "      <th>6.0</th>\n",
       "      <td>9</td>\n",
       "      <td>5.000000</td>\n",
       "    </tr>\n",
       "    <tr>\n",
       "      <th>7.0</th>\n",
       "      <td>2</td>\n",
       "      <td>4.750000</td>\n",
       "    </tr>\n",
       "    <tr>\n",
       "      <th>8.0</th>\n",
       "      <td>5</td>\n",
       "      <td>4.900000</td>\n",
       "    </tr>\n",
       "    <tr>\n",
       "      <th>9.0</th>\n",
       "      <td>3</td>\n",
       "      <td>5.000000</td>\n",
       "    </tr>\n",
       "    <tr>\n",
       "      <th>10.0</th>\n",
       "      <td>2</td>\n",
       "      <td>5.000000</td>\n",
       "    </tr>\n",
       "    <tr>\n",
       "      <th>11.0</th>\n",
       "      <td>2</td>\n",
       "      <td>5.000000</td>\n",
       "    </tr>\n",
       "    <tr>\n",
       "      <th>12.0</th>\n",
       "      <td>1</td>\n",
       "      <td>5.000000</td>\n",
       "    </tr>\n",
       "    <tr>\n",
       "      <th>14.0</th>\n",
       "      <td>2</td>\n",
       "      <td>4.500000</td>\n",
       "    </tr>\n",
       "    <tr>\n",
       "      <th>15.0</th>\n",
       "      <td>2</td>\n",
       "      <td>3.000000</td>\n",
       "    </tr>\n",
       "    <tr>\n",
       "      <th>22.0</th>\n",
       "      <td>1</td>\n",
       "      <td>5.000000</td>\n",
       "    </tr>\n",
       "  </tbody>\n",
       "</table>\n",
       "</div>"
      ],
      "text/plain": [
       "                 Questions Asked    Rating\n",
       "Questions Asked                           \n",
       "0.0                         3867  4.765193\n",
       "1.0                          276  4.740942\n",
       "2.0                           80  4.806250\n",
       "3.0                           43  4.744186\n",
       "4.0                           15  4.833333\n",
       "5.0                           13  4.653846\n",
       "6.0                            9  5.000000\n",
       "7.0                            2  4.750000\n",
       "8.0                            5  4.900000\n",
       "9.0                            3  5.000000\n",
       "10.0                           2  5.000000\n",
       "11.0                           2  5.000000\n",
       "12.0                           1  5.000000\n",
       "14.0                           2  4.500000\n",
       "15.0                           2  3.000000\n",
       "22.0                           1  5.000000"
      ]
     },
     "execution_count": 5,
     "metadata": {},
     "output_type": "execute_result"
    }
   ],
   "source": [
    "#The average rating of the questions relative to the ratings given\n",
    "\n",
    "df.groupby(\"Questions Asked\").agg({\"Questions Asked\": \"count\",\n",
    "                                   \"Rating\":\"mean\"})"
   ]
  },
  {
   "cell_type": "code",
   "execution_count": 6,
   "id": "4e1d0dff",
   "metadata": {
    "execution": {
     "iopub.execute_input": "2023-11-08T12:32:26.811743Z",
     "iopub.status.busy": "2023-11-08T12:32:26.811019Z",
     "iopub.status.idle": "2023-11-08T12:32:26.818724Z",
     "shell.execute_reply": "2023-11-08T12:32:26.817831Z"
    },
    "papermill": {
     "duration": 0.023352,
     "end_time": "2023-11-08T12:32:26.820768",
     "exception": false,
     "start_time": "2023-11-08T12:32:26.797416",
     "status": "completed"
    },
    "tags": []
   },
   "outputs": [
    {
     "data": {
      "text/plain": [
       "4.764284061993986"
      ]
     },
     "execution_count": 6,
     "metadata": {},
     "output_type": "execute_result"
    }
   ],
   "source": [
    "#The average score\n",
    "df[\"Rating\"].mean()"
   ]
  },
  {
   "cell_type": "markdown",
   "id": "82c7ca5c",
   "metadata": {
    "papermill": {
     "duration": 0.011998,
     "end_time": "2023-11-08T12:32:26.845141",
     "exception": false,
     "start_time": "2023-11-08T12:32:26.833143",
     "status": "completed"
    },
    "tags": []
   },
   "source": [
    "> When we take the average directly like this, we may miss the recent satisfaction trend among customers for the relevant products. For instance, if a product initially receives a very high score and later receives a lower score, the prominence of the initial scores would persist, leading to a missed observation of the recent downward trend in scores."
   ]
  },
  {
   "cell_type": "markdown",
   "id": "939f0a5c",
   "metadata": {
    "papermill": {
     "duration": 0.011904,
     "end_time": "2023-11-08T12:32:26.869206",
     "exception": false,
     "start_time": "2023-11-08T12:32:26.857302",
     "status": "completed"
    },
    "tags": []
   },
   "source": [
    "<div style=\"border-radius:10px; border:#D0C2F0 solid; padding: 15px; background-color: #FFF0F4; font-size:100%; text-align:left\">\n",
    "\n",
    "<h3 align=\"center\"><font color='#5E5273'> ⌛ Time-Based Weighted Average Rating ⌛ </font></h3>"
   ]
  },
  {
   "cell_type": "code",
   "execution_count": 7,
   "id": "b6f11640",
   "metadata": {
    "execution": {
     "iopub.execute_input": "2023-11-08T12:32:26.960458Z",
     "iopub.status.busy": "2023-11-08T12:32:26.960071Z",
     "iopub.status.idle": "2023-11-08T12:32:26.984184Z",
     "shell.execute_reply": "2023-11-08T12:32:26.983113Z"
    },
    "papermill": {
     "duration": 0.040421,
     "end_time": "2023-11-08T12:32:26.986674",
     "exception": false,
     "start_time": "2023-11-08T12:32:26.946253",
     "status": "completed"
    },
    "tags": []
   },
   "outputs": [
    {
     "data": {
      "text/plain": [
       "Rating                194\n",
       "Timestamp             194\n",
       "Enrolled              194\n",
       "Progress              194\n",
       "Questions Asked       194\n",
       "Questions Answered    194\n",
       "days                  194\n",
       "dtype: int64"
      ]
     },
     "execution_count": 7,
     "metadata": {},
     "output_type": "execute_result"
    }
   ],
   "source": [
    "#We converted the time variable to a datetime dtype:\n",
    "df[\"Timestamp\"] = pd.to_datetime(df[\"Timestamp\"])\n",
    "#Then, we set the current date as the last date in the dataset:\n",
    "current_date = pd.to_datetime('2021-02-10 0:0:0')\n",
    "#Subsequently, we subtracted the dates in the dataset from the current date and saved them to the newly created feature,\n",
    "#skipping the number of days:\n",
    "df[\"days\"] = (current_date - df[\"Timestamp\"]).dt.days\n",
    "#We called numbers within 30 days and below:\n",
    "df[df[\"days\"] <= 30].count()"
   ]
  },
  {
   "cell_type": "code",
   "execution_count": 8,
   "id": "563648a5",
   "metadata": {
    "execution": {
     "iopub.execute_input": "2023-11-08T12:32:27.014204Z",
     "iopub.status.busy": "2023-11-08T12:32:27.013797Z",
     "iopub.status.idle": "2023-11-08T12:32:27.021480Z",
     "shell.execute_reply": "2023-11-08T12:32:27.020469Z"
    },
    "papermill": {
     "duration": 0.023647,
     "end_time": "2023-11-08T12:32:27.023585",
     "exception": false,
     "start_time": "2023-11-08T12:32:26.999938",
     "status": "completed"
    },
    "tags": []
   },
   "outputs": [
    {
     "data": {
      "text/plain": [
       "4.775773195876289"
      ]
     },
     "execution_count": 8,
     "metadata": {},
     "output_type": "execute_result"
    }
   ],
   "source": [
    "#We called the numbers within 30 days and below and to take their average.\n",
    "df.loc[df[\"days\"] <= 30,\"Rating\"].mean()"
   ]
  },
  {
   "cell_type": "code",
   "execution_count": 9,
   "id": "48625d25",
   "metadata": {
    "execution": {
     "iopub.execute_input": "2023-11-08T12:32:27.050818Z",
     "iopub.status.busy": "2023-11-08T12:32:27.050423Z",
     "iopub.status.idle": "2023-11-08T12:32:27.058116Z",
     "shell.execute_reply": "2023-11-08T12:32:27.057297Z"
    },
    "papermill": {
     "duration": 0.024253,
     "end_time": "2023-11-08T12:32:27.060685",
     "exception": false,
     "start_time": "2023-11-08T12:32:27.036432",
     "status": "completed"
    },
    "tags": []
   },
   "outputs": [
    {
     "data": {
      "text/plain": [
       "4.763833992094861"
      ]
     },
     "execution_count": 9,
     "metadata": {},
     "output_type": "execute_result"
    }
   ],
   "source": [
    "#Let's take the average of those greater than 30 days and less than or equal to 90:\n",
    "df.loc[(df[\"days\"] > 30) & (df[\"days\"] <= 90), \"Rating\"].mean()"
   ]
  },
  {
   "cell_type": "code",
   "execution_count": 10,
   "id": "73e166d6",
   "metadata": {
    "execution": {
     "iopub.execute_input": "2023-11-08T12:32:27.088959Z",
     "iopub.status.busy": "2023-11-08T12:32:27.088545Z",
     "iopub.status.idle": "2023-11-08T12:32:27.097347Z",
     "shell.execute_reply": "2023-11-08T12:32:27.096288Z"
    },
    "papermill": {
     "duration": 0.025415,
     "end_time": "2023-11-08T12:32:27.099487",
     "exception": false,
     "start_time": "2023-11-08T12:32:27.074072",
     "status": "completed"
    },
    "tags": []
   },
   "outputs": [
    {
     "data": {
      "text/plain": [
       "4.752503576537912"
      ]
     },
     "execution_count": 10,
     "metadata": {},
     "output_type": "execute_result"
    }
   ],
   "source": [
    "#For those greater than 90 and less than or equal to 180:\n",
    "df.loc[(df[\"days\"] > 90) & (df[\"days\"] <= 180), \"Rating\"].mean()"
   ]
  },
  {
   "cell_type": "code",
   "execution_count": 11,
   "id": "00a76d34",
   "metadata": {
    "execution": {
     "iopub.execute_input": "2023-11-08T12:32:27.127332Z",
     "iopub.status.busy": "2023-11-08T12:32:27.126965Z",
     "iopub.status.idle": "2023-11-08T12:32:27.134415Z",
     "shell.execute_reply": "2023-11-08T12:32:27.133480Z"
    },
    "papermill": {
     "duration": 0.023727,
     "end_time": "2023-11-08T12:32:27.136374",
     "exception": false,
     "start_time": "2023-11-08T12:32:27.112647",
     "status": "completed"
    },
    "tags": []
   },
   "outputs": [
    {
     "data": {
      "text/plain": [
       "4.76641586867305"
      ]
     },
     "execution_count": 11,
     "metadata": {},
     "output_type": "execute_result"
    }
   ],
   "source": [
    "#All ratings beyond 180 days:\n",
    "df.loc[df[\"days\"] > 180,\"Rating\"].mean()"
   ]
  },
  {
   "cell_type": "markdown",
   "id": "853526a1",
   "metadata": {
    "papermill": {
     "duration": 0.012635,
     "end_time": "2023-11-08T12:32:27.162075",
     "exception": false,
     "start_time": "2023-11-08T12:32:27.149440",
     "status": "completed"
    },
    "tags": []
   },
   "source": [
    "> Within 0-30 days, the rating is 4.77. Within 30-90 days, the rating is 4.76. Within 90-180 days, the rating is 4.75. As we can see, there is an increase in the course satisfaction in recent times."
   ]
  },
  {
   "cell_type": "code",
   "execution_count": 12,
   "id": "e3662448",
   "metadata": {
    "execution": {
     "iopub.execute_input": "2023-11-08T12:32:27.190319Z",
     "iopub.status.busy": "2023-11-08T12:32:27.189948Z",
     "iopub.status.idle": "2023-11-08T12:32:27.201853Z",
     "shell.execute_reply": "2023-11-08T12:32:27.200818Z"
    },
    "papermill": {
     "duration": 0.028575,
     "end_time": "2023-11-08T12:32:27.204041",
     "exception": false,
     "start_time": "2023-11-08T12:32:27.175466",
     "status": "completed"
    },
    "tags": []
   },
   "outputs": [
    {
     "data": {
      "text/plain": [
       "4.765025682267194"
      ]
     },
     "execution_count": 12,
     "metadata": {},
     "output_type": "execute_result"
    }
   ],
   "source": [
    "# When we divide the periods as follows: below 30 days by 28%, between 30-90 days by 26%, between 90-180 days by 24%, and the rest \n",
    "#by the remaining 22%:\n",
    "df.loc[df[\"days\"] <= 30,\"Rating\"].mean() * 28/100 + \\\n",
    "    df.loc[(df[\"days\"] > 30) & (df[\"days\"] <= 90), \"Rating\"].mean() * 26/100 + \\\n",
    "    df.loc[(df[\"days\"] > 90) & (df[\"days\"] <= 180), \"Rating\"].mean() * 24/100 + \\\n",
    "    df.loc[df[\"days\"] > 180,\"Rating\"].mean() * 22/100\n",
    "# We would measure the average over different time intervals and consider 4.76."
   ]
  },
  {
   "cell_type": "code",
   "execution_count": 13,
   "id": "4485c5d9",
   "metadata": {
    "execution": {
     "iopub.execute_input": "2023-11-08T12:32:27.231880Z",
     "iopub.status.busy": "2023-11-08T12:32:27.231497Z",
     "iopub.status.idle": "2023-11-08T12:32:27.237879Z",
     "shell.execute_reply": "2023-11-08T12:32:27.236886Z"
    },
    "papermill": {
     "duration": 0.022682,
     "end_time": "2023-11-08T12:32:27.239861",
     "exception": false,
     "start_time": "2023-11-08T12:32:27.217179",
     "status": "completed"
    },
    "tags": []
   },
   "outputs": [],
   "source": [
    "def time_based_weighted_average(dataframe, w1=28, w2=26, w3=24,w4=22):\n",
    "    return dataframe.loc[dataframe[\"days\"] <= 30,\"Rating\"].mean() * w1 / 100 + \\\n",
    "           dataframe.loc[(dataframe[\"days\"] > 30) & (dataframe[\"days\"] <= 90), \"Rating\"].mean() * w2 / 100 + \\\n",
    "           dataframe.loc[(dataframe[\"days\"] > 90) & (dataframe[\"days\"] <= 180), \"Rating\"].mean() * w3 / 100 + \\\n",
    "           dataframe.loc[dataframe[\"days\"] > 180,\"Rating\"].mean() * w4 / 100"
   ]
  },
  {
   "cell_type": "markdown",
   "id": "da5ad85e",
   "metadata": {
    "papermill": {
     "duration": 0.012673,
     "end_time": "2023-11-08T12:32:27.265771",
     "exception": false,
     "start_time": "2023-11-08T12:32:27.253098",
     "status": "completed"
    },
    "tags": []
   },
   "source": [
    "<div style=\"border-radius:10px; border:#D0C2F0 solid; padding: 15px; background-color: #FFF0F4; font-size:100%; text-align:left\">\n",
    "\n",
    "<h3 align=\"center\"><font color='#5E5273'> 🗣️ User-Based(user-quality/ user-rank) Weighted Average 🗣️ </font></h3>"
   ]
  },
  {
   "cell_type": "code",
   "execution_count": 14,
   "id": "0fdb2550",
   "metadata": {
    "execution": {
     "iopub.execute_input": "2023-11-08T12:32:27.293409Z",
     "iopub.status.busy": "2023-11-08T12:32:27.293029Z",
     "iopub.status.idle": "2023-11-08T12:32:27.307586Z",
     "shell.execute_reply": "2023-11-08T12:32:27.306678Z"
    },
    "papermill": {
     "duration": 0.031092,
     "end_time": "2023-11-08T12:32:27.309828",
     "exception": false,
     "start_time": "2023-11-08T12:32:27.278736",
     "status": "completed"
    },
    "tags": []
   },
   "outputs": [
    {
     "data": {
      "text/html": [
       "<div>\n",
       "<style scoped>\n",
       "    .dataframe tbody tr th:only-of-type {\n",
       "        vertical-align: middle;\n",
       "    }\n",
       "\n",
       "    .dataframe tbody tr th {\n",
       "        vertical-align: top;\n",
       "    }\n",
       "\n",
       "    .dataframe thead th {\n",
       "        text-align: right;\n",
       "    }\n",
       "</style>\n",
       "<table border=\"1\" class=\"dataframe\">\n",
       "  <thead>\n",
       "    <tr style=\"text-align: right;\">\n",
       "      <th></th>\n",
       "      <th>Rating</th>\n",
       "    </tr>\n",
       "    <tr>\n",
       "      <th>Progress</th>\n",
       "      <th></th>\n",
       "    </tr>\n",
       "  </thead>\n",
       "  <tbody>\n",
       "    <tr>\n",
       "      <th>0.0</th>\n",
       "      <td>4.673913</td>\n",
       "    </tr>\n",
       "    <tr>\n",
       "      <th>1.0</th>\n",
       "      <td>4.642691</td>\n",
       "    </tr>\n",
       "    <tr>\n",
       "      <th>2.0</th>\n",
       "      <td>4.654762</td>\n",
       "    </tr>\n",
       "    <tr>\n",
       "      <th>3.0</th>\n",
       "      <td>4.663551</td>\n",
       "    </tr>\n",
       "    <tr>\n",
       "      <th>4.0</th>\n",
       "      <td>4.777328</td>\n",
       "    </tr>\n",
       "    <tr>\n",
       "      <th>...</th>\n",
       "      <td>...</td>\n",
       "    </tr>\n",
       "    <tr>\n",
       "      <th>94.0</th>\n",
       "      <td>5.000000</td>\n",
       "    </tr>\n",
       "    <tr>\n",
       "      <th>95.0</th>\n",
       "      <td>4.794118</td>\n",
       "    </tr>\n",
       "    <tr>\n",
       "      <th>97.0</th>\n",
       "      <td>5.000000</td>\n",
       "    </tr>\n",
       "    <tr>\n",
       "      <th>98.0</th>\n",
       "      <td>5.000000</td>\n",
       "    </tr>\n",
       "    <tr>\n",
       "      <th>100.0</th>\n",
       "      <td>4.866319</td>\n",
       "    </tr>\n",
       "  </tbody>\n",
       "</table>\n",
       "<p>91 rows × 1 columns</p>\n",
       "</div>"
      ],
      "text/plain": [
       "            Rating\n",
       "Progress          \n",
       "0.0       4.673913\n",
       "1.0       4.642691\n",
       "2.0       4.654762\n",
       "3.0       4.663551\n",
       "4.0       4.777328\n",
       "...            ...\n",
       "94.0      5.000000\n",
       "95.0      4.794118\n",
       "97.0      5.000000\n",
       "98.0      5.000000\n",
       "100.0     4.866319\n",
       "\n",
       "[91 rows x 1 columns]"
      ]
     },
     "execution_count": 14,
     "metadata": {},
     "output_type": "execute_result"
    }
   ],
   "source": [
    "#Should all users' ratings be weighted equally?\n",
    "#For instance, should a person who has watched the entire course hold the same weight as someone who has only watched 1% of the course?\n",
    "#There are different ratings for different viewing rates:\n",
    "\n",
    "df.groupby(\"Progress\").agg({\"Rating\": \"mean\"})\n",
    "\n",
    "#It appears that there is an increase in ratings based on the progress status."
   ]
  },
  {
   "cell_type": "code",
   "execution_count": 15,
   "id": "00928bef",
   "metadata": {
    "execution": {
     "iopub.execute_input": "2023-11-08T12:32:27.338754Z",
     "iopub.status.busy": "2023-11-08T12:32:27.338366Z",
     "iopub.status.idle": "2023-11-08T12:32:27.350829Z",
     "shell.execute_reply": "2023-11-08T12:32:27.349673Z"
    },
    "papermill": {
     "duration": 0.029315,
     "end_time": "2023-11-08T12:32:27.353016",
     "exception": false,
     "start_time": "2023-11-08T12:32:27.323701",
     "status": "completed"
    },
    "tags": []
   },
   "outputs": [
    {
     "data": {
      "text/plain": [
       "4.800257704672543"
      ]
     },
     "execution_count": 15,
     "metadata": {},
     "output_type": "execute_result"
    }
   ],
   "source": [
    "df.loc[df[\"Progress\"] <= 10,\"Rating\"].mean() * 22 / 100 + \\\n",
    "    df.loc[(df[\"Progress\"] > 10) & (df[\"Progress\"] <= 45), \"Rating\"].mean() * 24/ 100 + \\\n",
    "    df.loc[(df[\"Progress\"] > 45) & (df[\"Progress\"] <= 75), \"Rating\"].mean() * 26 / 100 + \\\n",
    "    df.loc[df[\"Progress\"] > 75,\"Rating\"].mean() * 28 / 100"
   ]
  },
  {
   "cell_type": "markdown",
   "id": "50a232c3",
   "metadata": {
    "papermill": {
     "duration": 0.013133,
     "end_time": "2023-11-08T12:32:27.379660",
     "exception": false,
     "start_time": "2023-11-08T12:32:27.366527",
     "status": "completed"
    },
    "tags": []
   },
   "source": [
    "### I assigned a weight of 22% to those with progress less than 10, 24% to those between 10-45, 26% to those between 45-75, and 28% to those above 75.\n",
    "\n",
    "> This resulted in an average of 4.80, as the ratings given by those who watched the entire course were higher. A person who has watched the entire course is likely to have a better understanding of the course, leading to a difference in the ratings they provide compared to those who have watched only a small portion."
   ]
  },
  {
   "cell_type": "code",
   "execution_count": 16,
   "id": "d134ece8",
   "metadata": {
    "execution": {
     "iopub.execute_input": "2023-11-08T12:32:27.408453Z",
     "iopub.status.busy": "2023-11-08T12:32:27.408082Z",
     "iopub.status.idle": "2023-11-08T12:32:27.414606Z",
     "shell.execute_reply": "2023-11-08T12:32:27.413634Z"
    },
    "papermill": {
     "duration": 0.023577,
     "end_time": "2023-11-08T12:32:27.416655",
     "exception": false,
     "start_time": "2023-11-08T12:32:27.393078",
     "status": "completed"
    },
    "tags": []
   },
   "outputs": [],
   "source": [
    "def user_based_weighted_average(dataframe, w1=22, w2=24, w3=26, w4=28):\n",
    "    return  dataframe.loc[dataframe[\"Progress\"] <= 10,\"Rating\"].mean() * w1 / 100 + \\\n",
    "            dataframe.loc[(dataframe[\"Progress\"] > 10) & (dataframe[\"Progress\"] <= 45), \"Rating\"].mean() * w2 / 100 + \\\n",
    "            dataframe.loc[(dataframe[\"Progress\"] > 45) & (dataframe[\"Progress\"] <= 75), \"Rating\"].mean() * w3 / 100 + \\\n",
    "            dataframe.loc[dataframe[\"Progress\"] > 75,\"Rating\"].mean() * w4 / 100"
   ]
  },
  {
   "cell_type": "markdown",
   "id": "c88b254c",
   "metadata": {
    "papermill": {
     "duration": 0.012955,
     "end_time": "2023-11-08T12:32:27.443340",
     "exception": false,
     "start_time": "2023-11-08T12:32:27.430385",
     "status": "completed"
    },
    "tags": []
   },
   "source": [
    "<div style=\"border-radius:10px; border:#D0C2F0 solid; padding: 15px; background-color: #FFF0F4; font-size:100%; text-align:left\">\n",
    "\n",
    "<h3 align=\"center\"><font color='#5E5273'> 🏋️  Weighted Rating 🏋️ </font></h3>"
   ]
  },
  {
   "cell_type": "code",
   "execution_count": 17,
   "id": "c651f414",
   "metadata": {
    "execution": {
     "iopub.execute_input": "2023-11-08T12:32:27.471607Z",
     "iopub.status.busy": "2023-11-08T12:32:27.471242Z",
     "iopub.status.idle": "2023-11-08T12:32:27.485707Z",
     "shell.execute_reply": "2023-11-08T12:32:27.484678Z"
    },
    "papermill": {
     "duration": 0.031287,
     "end_time": "2023-11-08T12:32:27.487982",
     "exception": false,
     "start_time": "2023-11-08T12:32:27.456695",
     "status": "completed"
    },
    "tags": []
   },
   "outputs": [
    {
     "data": {
      "text/plain": [
       "4.782641693469868"
      ]
     },
     "execution_count": 17,
     "metadata": {},
     "output_type": "execute_result"
    }
   ],
   "source": [
    "#in one function\n",
    "def course_weighted_rating(dataframe, time_w=50, user_w=50):\n",
    "    return time_based_weighted_average(dataframe) * time_w / 100  + user_based_weighted_average(dataframe)* user_w/100\n",
    "\n",
    "\n",
    "course_weighted_rating(df)"
   ]
  },
  {
   "cell_type": "code",
   "execution_count": 18,
   "id": "dc3abd38",
   "metadata": {
    "execution": {
     "iopub.execute_input": "2023-11-08T12:32:27.518505Z",
     "iopub.status.busy": "2023-11-08T12:32:27.518025Z",
     "iopub.status.idle": "2023-11-08T12:32:27.531195Z",
     "shell.execute_reply": "2023-11-08T12:32:27.529975Z"
    },
    "papermill": {
     "duration": 0.03111,
     "end_time": "2023-11-08T12:32:27.533459",
     "exception": false,
     "start_time": "2023-11-08T12:32:27.502349",
     "status": "completed"
    },
    "tags": []
   },
   "outputs": [
    {
     "data": {
      "text/plain": [
       "4.786164895710403"
      ]
     },
     "execution_count": 18,
     "metadata": {},
     "output_type": "execute_result"
    }
   ],
   "source": [
    "#lets say user quaility is more important for us\n",
    "course_weighted_rating(df, time_w=40, user_w=60)"
   ]
  },
  {
   "cell_type": "markdown",
   "id": "45e679d5",
   "metadata": {
    "papermill": {
     "duration": 0.013722,
     "end_time": "2023-11-08T12:32:27.561046",
     "exception": false,
     "start_time": "2023-11-08T12:32:27.547324",
     "status": "completed"
    },
    "tags": []
   },
   "source": [
    "# <p style=\"border-radius:10px; border:#DEB887 solid; padding:25px; background-color: #FFFAF0; font-size:100%;color:#52017A;text-align:center;\"> Sorting Product  </p>"
   ]
  },
  {
   "cell_type": "code",
   "execution_count": 19,
   "id": "b734fc05",
   "metadata": {
    "execution": {
     "iopub.execute_input": "2023-11-08T12:32:27.591562Z",
     "iopub.status.busy": "2023-11-08T12:32:27.591156Z",
     "iopub.status.idle": "2023-11-08T12:32:27.609930Z",
     "shell.execute_reply": "2023-11-08T12:32:27.608961Z"
    },
    "papermill": {
     "duration": 0.036694,
     "end_time": "2023-11-08T12:32:27.611987",
     "exception": false,
     "start_time": "2023-11-08T12:32:27.575293",
     "status": "completed"
    },
    "tags": []
   },
   "outputs": [
    {
     "data": {
      "text/html": [
       "<div>\n",
       "<style scoped>\n",
       "    .dataframe tbody tr th:only-of-type {\n",
       "        vertical-align: middle;\n",
       "    }\n",
       "\n",
       "    .dataframe tbody tr th {\n",
       "        vertical-align: top;\n",
       "    }\n",
       "\n",
       "    .dataframe thead th {\n",
       "        text-align: right;\n",
       "    }\n",
       "</style>\n",
       "<table border=\"1\" class=\"dataframe\">\n",
       "  <thead>\n",
       "    <tr style=\"text-align: right;\">\n",
       "      <th></th>\n",
       "      <th>0</th>\n",
       "      <th>1</th>\n",
       "      <th>2</th>\n",
       "      <th>3</th>\n",
       "      <th>4</th>\n",
       "    </tr>\n",
       "  </thead>\n",
       "  <tbody>\n",
       "    <tr>\n",
       "      <th>course_name</th>\n",
       "      <td>(50+ Saat) Python A-Z™: Veri Bilimi ve Machine...</td>\n",
       "      <td>Python: Yapay Zeka ve Veri Bilimi için Python ...</td>\n",
       "      <td>5 Saatte Veri Bilimci Olun (Valla Billa)</td>\n",
       "      <td>R ile Veri Bilimi ve Machine Learning (35 Saat)</td>\n",
       "      <td>(2020) Python ile Makine Öğrenmesi (Machine Le...</td>\n",
       "    </tr>\n",
       "    <tr>\n",
       "      <th>instructor_name</th>\n",
       "      <td>Veri Bilimi Okulu</td>\n",
       "      <td>Veri Bilimi Okulu</td>\n",
       "      <td>Instructor_1</td>\n",
       "      <td>Veri Bilimi Okulu</td>\n",
       "      <td>Veri Bilimi Okulu</td>\n",
       "    </tr>\n",
       "    <tr>\n",
       "      <th>purchase_count</th>\n",
       "      <td>17380</td>\n",
       "      <td>48291</td>\n",
       "      <td>18693</td>\n",
       "      <td>6626</td>\n",
       "      <td>11314</td>\n",
       "    </tr>\n",
       "    <tr>\n",
       "      <th>rating</th>\n",
       "      <td>4.8</td>\n",
       "      <td>4.6</td>\n",
       "      <td>4.4</td>\n",
       "      <td>4.6</td>\n",
       "      <td>4.6</td>\n",
       "    </tr>\n",
       "    <tr>\n",
       "      <th>commment_count</th>\n",
       "      <td>4621</td>\n",
       "      <td>4488</td>\n",
       "      <td>2362</td>\n",
       "      <td>1027</td>\n",
       "      <td>969</td>\n",
       "    </tr>\n",
       "    <tr>\n",
       "      <th>5_point</th>\n",
       "      <td>3466</td>\n",
       "      <td>2962</td>\n",
       "      <td>1582</td>\n",
       "      <td>688</td>\n",
       "      <td>717</td>\n",
       "    </tr>\n",
       "    <tr>\n",
       "      <th>4_point</th>\n",
       "      <td>924</td>\n",
       "      <td>1122</td>\n",
       "      <td>567</td>\n",
       "      <td>257</td>\n",
       "      <td>194</td>\n",
       "    </tr>\n",
       "    <tr>\n",
       "      <th>3_point</th>\n",
       "      <td>185</td>\n",
       "      <td>314</td>\n",
       "      <td>165</td>\n",
       "      <td>51</td>\n",
       "      <td>38</td>\n",
       "    </tr>\n",
       "    <tr>\n",
       "      <th>2_point</th>\n",
       "      <td>46</td>\n",
       "      <td>45</td>\n",
       "      <td>24</td>\n",
       "      <td>10</td>\n",
       "      <td>10</td>\n",
       "    </tr>\n",
       "    <tr>\n",
       "      <th>1_point</th>\n",
       "      <td>6</td>\n",
       "      <td>45</td>\n",
       "      <td>24</td>\n",
       "      <td>21</td>\n",
       "      <td>10</td>\n",
       "    </tr>\n",
       "  </tbody>\n",
       "</table>\n",
       "</div>"
      ],
      "text/plain": [
       "                                                                 0  \\\n",
       "course_name      (50+ Saat) Python A-Z™: Veri Bilimi ve Machine...   \n",
       "instructor_name                                  Veri Bilimi Okulu   \n",
       "purchase_count                                               17380   \n",
       "rating                                                         4.8   \n",
       "commment_count                                                4621   \n",
       "5_point                                                       3466   \n",
       "4_point                                                        924   \n",
       "3_point                                                        185   \n",
       "2_point                                                         46   \n",
       "1_point                                                          6   \n",
       "\n",
       "                                                                 1  \\\n",
       "course_name      Python: Yapay Zeka ve Veri Bilimi için Python ...   \n",
       "instructor_name                                  Veri Bilimi Okulu   \n",
       "purchase_count                                               48291   \n",
       "rating                                                         4.6   \n",
       "commment_count                                                4488   \n",
       "5_point                                                       2962   \n",
       "4_point                                                       1122   \n",
       "3_point                                                        314   \n",
       "2_point                                                         45   \n",
       "1_point                                                         45   \n",
       "\n",
       "                                                        2  \\\n",
       "course_name      5 Saatte Veri Bilimci Olun (Valla Billa)   \n",
       "instructor_name                              Instructor_1   \n",
       "purchase_count                                      18693   \n",
       "rating                                                4.4   \n",
       "commment_count                                       2362   \n",
       "5_point                                              1582   \n",
       "4_point                                               567   \n",
       "3_point                                               165   \n",
       "2_point                                                24   \n",
       "1_point                                                24   \n",
       "\n",
       "                                                               3  \\\n",
       "course_name      R ile Veri Bilimi ve Machine Learning (35 Saat)   \n",
       "instructor_name                                Veri Bilimi Okulu   \n",
       "purchase_count                                              6626   \n",
       "rating                                                       4.6   \n",
       "commment_count                                              1027   \n",
       "5_point                                                      688   \n",
       "4_point                                                      257   \n",
       "3_point                                                       51   \n",
       "2_point                                                       10   \n",
       "1_point                                                       21   \n",
       "\n",
       "                                                                 4  \n",
       "course_name      (2020) Python ile Makine Öğrenmesi (Machine Le...  \n",
       "instructor_name                                  Veri Bilimi Okulu  \n",
       "purchase_count                                               11314  \n",
       "rating                                                         4.6  \n",
       "commment_count                                                 969  \n",
       "5_point                                                        717  \n",
       "4_point                                                        194  \n",
       "3_point                                                         38  \n",
       "2_point                                                         10  \n",
       "1_point                                                         10  "
      ]
     },
     "execution_count": 19,
     "metadata": {},
     "output_type": "execute_result"
    }
   ],
   "source": [
    "df = pd.read_csv(\"/kaggle/input/privatedata3/product_sorting.csv\")\n",
    "\n",
    "df.head().T"
   ]
  },
  {
   "cell_type": "code",
   "execution_count": 20,
   "id": "43f30862",
   "metadata": {
    "execution": {
     "iopub.execute_input": "2023-11-08T12:32:27.642318Z",
     "iopub.status.busy": "2023-11-08T12:32:27.641938Z",
     "iopub.status.idle": "2023-11-08T12:32:27.657522Z",
     "shell.execute_reply": "2023-11-08T12:32:27.656642Z"
    },
    "papermill": {
     "duration": 0.03298,
     "end_time": "2023-11-08T12:32:27.659424",
     "exception": false,
     "start_time": "2023-11-08T12:32:27.626444",
     "status": "completed"
    },
    "tags": []
   },
   "outputs": [
    {
     "data": {
      "text/html": [
       "<div>\n",
       "<style scoped>\n",
       "    .dataframe tbody tr th:only-of-type {\n",
       "        vertical-align: middle;\n",
       "    }\n",
       "\n",
       "    .dataframe tbody tr th {\n",
       "        vertical-align: top;\n",
       "    }\n",
       "\n",
       "    .dataframe thead th {\n",
       "        text-align: right;\n",
       "    }\n",
       "</style>\n",
       "<table border=\"1\" class=\"dataframe\">\n",
       "  <thead>\n",
       "    <tr style=\"text-align: right;\">\n",
       "      <th></th>\n",
       "      <th>course_name</th>\n",
       "      <th>instructor_name</th>\n",
       "      <th>purchase_count</th>\n",
       "      <th>rating</th>\n",
       "      <th>commment_count</th>\n",
       "      <th>5_point</th>\n",
       "      <th>4_point</th>\n",
       "      <th>3_point</th>\n",
       "      <th>2_point</th>\n",
       "      <th>1_point</th>\n",
       "    </tr>\n",
       "  </thead>\n",
       "  <tbody>\n",
       "    <tr>\n",
       "      <th>0</th>\n",
       "      <td>(50+ Saat) Python A-Z™: Veri Bilimi ve Machine...</td>\n",
       "      <td>Veri Bilimi Okulu</td>\n",
       "      <td>17380</td>\n",
       "      <td>4.8</td>\n",
       "      <td>4621</td>\n",
       "      <td>3466</td>\n",
       "      <td>924</td>\n",
       "      <td>185</td>\n",
       "      <td>46</td>\n",
       "      <td>6</td>\n",
       "    </tr>\n",
       "    <tr>\n",
       "      <th>10</th>\n",
       "      <td>İleri Düzey Excel|Dashboard|Excel İp Uçları</td>\n",
       "      <td>Veri Bilimi Okulu</td>\n",
       "      <td>9554</td>\n",
       "      <td>4.8</td>\n",
       "      <td>2266</td>\n",
       "      <td>1654</td>\n",
       "      <td>499</td>\n",
       "      <td>91</td>\n",
       "      <td>22</td>\n",
       "      <td>0</td>\n",
       "    </tr>\n",
       "    <tr>\n",
       "      <th>19</th>\n",
       "      <td>Alıştırmalarla SQL Öğreniyorum</td>\n",
       "      <td>Veri Bilimi Okulu</td>\n",
       "      <td>3155</td>\n",
       "      <td>4.8</td>\n",
       "      <td>235</td>\n",
       "      <td>200</td>\n",
       "      <td>31</td>\n",
       "      <td>4</td>\n",
       "      <td>0</td>\n",
       "      <td>0</td>\n",
       "    </tr>\n",
       "    <tr>\n",
       "      <th>5</th>\n",
       "      <td>Course_1</td>\n",
       "      <td>Instructor_2</td>\n",
       "      <td>4601</td>\n",
       "      <td>4.8</td>\n",
       "      <td>213</td>\n",
       "      <td>164</td>\n",
       "      <td>45</td>\n",
       "      <td>4</td>\n",
       "      <td>0</td>\n",
       "      <td>0</td>\n",
       "    </tr>\n",
       "    <tr>\n",
       "      <th>6</th>\n",
       "      <td>Course_2</td>\n",
       "      <td>Instructor_3</td>\n",
       "      <td>3171</td>\n",
       "      <td>4.7</td>\n",
       "      <td>856</td>\n",
       "      <td>582</td>\n",
       "      <td>205</td>\n",
       "      <td>51</td>\n",
       "      <td>9</td>\n",
       "      <td>9</td>\n",
       "    </tr>\n",
       "    <tr>\n",
       "      <th>14</th>\n",
       "      <td>Uçtan Uca SQL Server Eğitimi</td>\n",
       "      <td>Veri Bilimi Okulu</td>\n",
       "      <td>12893</td>\n",
       "      <td>4.7</td>\n",
       "      <td>2425</td>\n",
       "      <td>1722</td>\n",
       "      <td>510</td>\n",
       "      <td>145</td>\n",
       "      <td>24</td>\n",
       "      <td>24</td>\n",
       "    </tr>\n",
       "    <tr>\n",
       "      <th>8</th>\n",
       "      <td>A'dan Z'ye Apache Spark (Scala &amp; Python)</td>\n",
       "      <td>Veri Bilimi Okulu</td>\n",
       "      <td>6920</td>\n",
       "      <td>4.7</td>\n",
       "      <td>214</td>\n",
       "      <td>154</td>\n",
       "      <td>41</td>\n",
       "      <td>13</td>\n",
       "      <td>2</td>\n",
       "      <td>4</td>\n",
       "    </tr>\n",
       "    <tr>\n",
       "      <th>13</th>\n",
       "      <td>Course_5</td>\n",
       "      <td>Instructor_6</td>\n",
       "      <td>6056</td>\n",
       "      <td>4.7</td>\n",
       "      <td>144</td>\n",
       "      <td>82</td>\n",
       "      <td>46</td>\n",
       "      <td>12</td>\n",
       "      <td>1</td>\n",
       "      <td>3</td>\n",
       "    </tr>\n",
       "    <tr>\n",
       "      <th>27</th>\n",
       "      <td>Course_15</td>\n",
       "      <td>Instructor_1</td>\n",
       "      <td>1164</td>\n",
       "      <td>4.6</td>\n",
       "      <td>98</td>\n",
       "      <td>65</td>\n",
       "      <td>24</td>\n",
       "      <td>6</td>\n",
       "      <td>0</td>\n",
       "      <td>3</td>\n",
       "    </tr>\n",
       "    <tr>\n",
       "      <th>1</th>\n",
       "      <td>Python: Yapay Zeka ve Veri Bilimi için Python ...</td>\n",
       "      <td>Veri Bilimi Okulu</td>\n",
       "      <td>48291</td>\n",
       "      <td>4.6</td>\n",
       "      <td>4488</td>\n",
       "      <td>2962</td>\n",
       "      <td>1122</td>\n",
       "      <td>314</td>\n",
       "      <td>45</td>\n",
       "      <td>45</td>\n",
       "    </tr>\n",
       "  </tbody>\n",
       "</table>\n",
       "</div>"
      ],
      "text/plain": [
       "                                          course_name    instructor_name  \\\n",
       "0   (50+ Saat) Python A-Z™: Veri Bilimi ve Machine...  Veri Bilimi Okulu   \n",
       "10        İleri Düzey Excel|Dashboard|Excel İp Uçları  Veri Bilimi Okulu   \n",
       "19                     Alıştırmalarla SQL Öğreniyorum  Veri Bilimi Okulu   \n",
       "5                                            Course_1       Instructor_2   \n",
       "6                                            Course_2       Instructor_3   \n",
       "14                       Uçtan Uca SQL Server Eğitimi  Veri Bilimi Okulu   \n",
       "8            A'dan Z'ye Apache Spark (Scala & Python)  Veri Bilimi Okulu   \n",
       "13                                           Course_5       Instructor_6   \n",
       "27                                          Course_15       Instructor_1   \n",
       "1   Python: Yapay Zeka ve Veri Bilimi için Python ...  Veri Bilimi Okulu   \n",
       "\n",
       "    purchase_count  rating  commment_count  5_point  4_point  3_point  \\\n",
       "0            17380     4.8            4621     3466      924      185   \n",
       "10            9554     4.8            2266     1654      499       91   \n",
       "19            3155     4.8             235      200       31        4   \n",
       "5             4601     4.8             213      164       45        4   \n",
       "6             3171     4.7             856      582      205       51   \n",
       "14           12893     4.7            2425     1722      510      145   \n",
       "8             6920     4.7             214      154       41       13   \n",
       "13            6056     4.7             144       82       46       12   \n",
       "27            1164     4.6              98       65       24        6   \n",
       "1            48291     4.6            4488     2962     1122      314   \n",
       "\n",
       "    2_point  1_point  \n",
       "0        46        6  \n",
       "10       22        0  \n",
       "19        0        0  \n",
       "5         0        0  \n",
       "6         9        9  \n",
       "14       24       24  \n",
       "8         2        4  \n",
       "13        1        3  \n",
       "27        0        3  \n",
       "1        45       45  "
      ]
     },
     "execution_count": 20,
     "metadata": {},
     "output_type": "execute_result"
    }
   ],
   "source": [
    "#Sorting by rating:\n",
    "df.sort_values(\"rating\", ascending=False).head(10)\n",
    "#We shouldn't solely sort based on the rating; for instance, there are courses with a high rating but a very low comment count. \n",
    "#We need a classification that takes into account both the number of purchases,the number of ratings and the number of comments at the same time."
   ]
  },
  {
   "cell_type": "code",
   "execution_count": 21,
   "id": "67405367",
   "metadata": {
    "execution": {
     "iopub.execute_input": "2023-11-08T12:32:27.693593Z",
     "iopub.status.busy": "2023-11-08T12:32:27.693229Z",
     "iopub.status.idle": "2023-11-08T12:32:27.711412Z",
     "shell.execute_reply": "2023-11-08T12:32:27.710267Z"
    },
    "papermill": {
     "duration": 0.038751,
     "end_time": "2023-11-08T12:32:27.713702",
     "exception": false,
     "start_time": "2023-11-08T12:32:27.674951",
     "status": "completed"
    },
    "tags": []
   },
   "outputs": [
    {
     "data": {
      "text/html": [
       "<div>\n",
       "<style scoped>\n",
       "    .dataframe tbody tr th:only-of-type {\n",
       "        vertical-align: middle;\n",
       "    }\n",
       "\n",
       "    .dataframe tbody tr th {\n",
       "        vertical-align: top;\n",
       "    }\n",
       "\n",
       "    .dataframe thead th {\n",
       "        text-align: right;\n",
       "    }\n",
       "</style>\n",
       "<table border=\"1\" class=\"dataframe\">\n",
       "  <thead>\n",
       "    <tr style=\"text-align: right;\">\n",
       "      <th></th>\n",
       "      <th>course_name</th>\n",
       "      <th>instructor_name</th>\n",
       "      <th>purchase_count</th>\n",
       "      <th>rating</th>\n",
       "      <th>commment_count</th>\n",
       "      <th>5_point</th>\n",
       "      <th>4_point</th>\n",
       "      <th>3_point</th>\n",
       "      <th>2_point</th>\n",
       "      <th>1_point</th>\n",
       "    </tr>\n",
       "  </thead>\n",
       "  <tbody>\n",
       "    <tr>\n",
       "      <th>0</th>\n",
       "      <td>(50+ Saat) Python A-Z™: Veri Bilimi ve Machine...</td>\n",
       "      <td>Veri Bilimi Okulu</td>\n",
       "      <td>17380</td>\n",
       "      <td>4.8</td>\n",
       "      <td>4621</td>\n",
       "      <td>3466</td>\n",
       "      <td>924</td>\n",
       "      <td>185</td>\n",
       "      <td>46</td>\n",
       "      <td>6</td>\n",
       "    </tr>\n",
       "    <tr>\n",
       "      <th>1</th>\n",
       "      <td>Python: Yapay Zeka ve Veri Bilimi için Python ...</td>\n",
       "      <td>Veri Bilimi Okulu</td>\n",
       "      <td>48291</td>\n",
       "      <td>4.6</td>\n",
       "      <td>4488</td>\n",
       "      <td>2962</td>\n",
       "      <td>1122</td>\n",
       "      <td>314</td>\n",
       "      <td>45</td>\n",
       "      <td>45</td>\n",
       "    </tr>\n",
       "    <tr>\n",
       "      <th>20</th>\n",
       "      <td>Course_9</td>\n",
       "      <td>Instructor_3</td>\n",
       "      <td>12946</td>\n",
       "      <td>4.5</td>\n",
       "      <td>3371</td>\n",
       "      <td>2191</td>\n",
       "      <td>877</td>\n",
       "      <td>203</td>\n",
       "      <td>33</td>\n",
       "      <td>67</td>\n",
       "    </tr>\n",
       "    <tr>\n",
       "      <th>14</th>\n",
       "      <td>Uçtan Uca SQL Server Eğitimi</td>\n",
       "      <td>Veri Bilimi Okulu</td>\n",
       "      <td>12893</td>\n",
       "      <td>4.7</td>\n",
       "      <td>2425</td>\n",
       "      <td>1722</td>\n",
       "      <td>510</td>\n",
       "      <td>145</td>\n",
       "      <td>24</td>\n",
       "      <td>24</td>\n",
       "    </tr>\n",
       "    <tr>\n",
       "      <th>2</th>\n",
       "      <td>5 Saatte Veri Bilimci Olun (Valla Billa)</td>\n",
       "      <td>Instructor_1</td>\n",
       "      <td>18693</td>\n",
       "      <td>4.4</td>\n",
       "      <td>2362</td>\n",
       "      <td>1582</td>\n",
       "      <td>567</td>\n",
       "      <td>165</td>\n",
       "      <td>24</td>\n",
       "      <td>24</td>\n",
       "    </tr>\n",
       "    <tr>\n",
       "      <th>15</th>\n",
       "      <td>Uygulamalarla SQL Öğreniyorum</td>\n",
       "      <td>Veri Bilimi Okulu</td>\n",
       "      <td>11397</td>\n",
       "      <td>4.5</td>\n",
       "      <td>2353</td>\n",
       "      <td>1435</td>\n",
       "      <td>705</td>\n",
       "      <td>165</td>\n",
       "      <td>24</td>\n",
       "      <td>24</td>\n",
       "    </tr>\n",
       "    <tr>\n",
       "      <th>10</th>\n",
       "      <td>İleri Düzey Excel|Dashboard|Excel İp Uçları</td>\n",
       "      <td>Veri Bilimi Okulu</td>\n",
       "      <td>9554</td>\n",
       "      <td>4.8</td>\n",
       "      <td>2266</td>\n",
       "      <td>1654</td>\n",
       "      <td>499</td>\n",
       "      <td>91</td>\n",
       "      <td>22</td>\n",
       "      <td>0</td>\n",
       "    </tr>\n",
       "    <tr>\n",
       "      <th>3</th>\n",
       "      <td>R ile Veri Bilimi ve Machine Learning (35 Saat)</td>\n",
       "      <td>Veri Bilimi Okulu</td>\n",
       "      <td>6626</td>\n",
       "      <td>4.6</td>\n",
       "      <td>1027</td>\n",
       "      <td>688</td>\n",
       "      <td>257</td>\n",
       "      <td>51</td>\n",
       "      <td>10</td>\n",
       "      <td>21</td>\n",
       "    </tr>\n",
       "    <tr>\n",
       "      <th>4</th>\n",
       "      <td>(2020) Python ile Makine Öğrenmesi (Machine Le...</td>\n",
       "      <td>Veri Bilimi Okulu</td>\n",
       "      <td>11314</td>\n",
       "      <td>4.6</td>\n",
       "      <td>969</td>\n",
       "      <td>717</td>\n",
       "      <td>194</td>\n",
       "      <td>38</td>\n",
       "      <td>10</td>\n",
       "      <td>10</td>\n",
       "    </tr>\n",
       "    <tr>\n",
       "      <th>9</th>\n",
       "      <td>Modern R Programlama Eğitimi</td>\n",
       "      <td>Veri Bilimi Okulu</td>\n",
       "      <td>6537</td>\n",
       "      <td>4.4</td>\n",
       "      <td>901</td>\n",
       "      <td>559</td>\n",
       "      <td>252</td>\n",
       "      <td>72</td>\n",
       "      <td>9</td>\n",
       "      <td>9</td>\n",
       "    </tr>\n",
       "  </tbody>\n",
       "</table>\n",
       "</div>"
      ],
      "text/plain": [
       "                                          course_name    instructor_name  \\\n",
       "0   (50+ Saat) Python A-Z™: Veri Bilimi ve Machine...  Veri Bilimi Okulu   \n",
       "1   Python: Yapay Zeka ve Veri Bilimi için Python ...  Veri Bilimi Okulu   \n",
       "20                                           Course_9       Instructor_3   \n",
       "14                       Uçtan Uca SQL Server Eğitimi  Veri Bilimi Okulu   \n",
       "2            5 Saatte Veri Bilimci Olun (Valla Billa)       Instructor_1   \n",
       "15                      Uygulamalarla SQL Öğreniyorum  Veri Bilimi Okulu   \n",
       "10        İleri Düzey Excel|Dashboard|Excel İp Uçları  Veri Bilimi Okulu   \n",
       "3     R ile Veri Bilimi ve Machine Learning (35 Saat)  Veri Bilimi Okulu   \n",
       "4   (2020) Python ile Makine Öğrenmesi (Machine Le...  Veri Bilimi Okulu   \n",
       "9                        Modern R Programlama Eğitimi  Veri Bilimi Okulu   \n",
       "\n",
       "    purchase_count  rating  commment_count  5_point  4_point  3_point  \\\n",
       "0            17380     4.8            4621     3466      924      185   \n",
       "1            48291     4.6            4488     2962     1122      314   \n",
       "20           12946     4.5            3371     2191      877      203   \n",
       "14           12893     4.7            2425     1722      510      145   \n",
       "2            18693     4.4            2362     1582      567      165   \n",
       "15           11397     4.5            2353     1435      705      165   \n",
       "10            9554     4.8            2266     1654      499       91   \n",
       "3             6626     4.6            1027      688      257       51   \n",
       "4            11314     4.6             969      717      194       38   \n",
       "9             6537     4.4             901      559      252       72   \n",
       "\n",
       "    2_point  1_point  \n",
       "0        46        6  \n",
       "1        45       45  \n",
       "20       33       67  \n",
       "14       24       24  \n",
       "2        24       24  \n",
       "15       24       24  \n",
       "10       22        0  \n",
       "3        10       21  \n",
       "4        10       10  \n",
       "9         9        9  "
      ]
     },
     "execution_count": 21,
     "metadata": {},
     "output_type": "execute_result"
    }
   ],
   "source": [
    "#When sorted by comments, it seems more appealing compared to sorting by ratings, but similar issues persist. For example, a course might have \n",
    "#a high number of purchases but could have been distributed for free.\n",
    "\n",
    "df.sort_values(\"commment_count\",ascending=False).head(10)"
   ]
  },
  {
   "cell_type": "markdown",
   "id": "666cf52c",
   "metadata": {
    "papermill": {
     "duration": 0.014567,
     "end_time": "2023-11-08T12:32:27.743590",
     "exception": false,
     "start_time": "2023-11-08T12:32:27.729023",
     "status": "completed"
    },
    "tags": []
   },
   "source": [
    "<div style=\"border-radius:10px; border:#D0C2F0 solid; padding: 15px; background-color: #FFF0F4; font-size:100%; text-align:left\">\n",
    "\n",
    "<h3 align=\"center\"><font color='#5E5273'> Sorting by Rating,Comment and Purchase </font></h3>"
   ]
  },
  {
   "cell_type": "code",
   "execution_count": 22,
   "id": "064b418c",
   "metadata": {
    "execution": {
     "iopub.execute_input": "2023-11-08T12:32:27.775953Z",
     "iopub.status.busy": "2023-11-08T12:32:27.775561Z",
     "iopub.status.idle": "2023-11-08T12:32:27.792313Z",
     "shell.execute_reply": "2023-11-08T12:32:27.791461Z"
    },
    "papermill": {
     "duration": 0.035698,
     "end_time": "2023-11-08T12:32:27.794581",
     "exception": false,
     "start_time": "2023-11-08T12:32:27.758883",
     "status": "completed"
    },
    "tags": []
   },
   "outputs": [],
   "source": [
    "#We compressed the purchase frequencies to a range of 1 to 5:\n",
    "df[\"purchase_count_scaled\"] = MinMaxScaler(feature_range=(1,5)).fit(df[[\"purchase_count\"]]).transform(df[[\"purchase_count\"]])\n",
    "\n",
    "#We also compressed the comment count to a range between 1 and 5:\n",
    "df[\"comment_count_scaled\"] = MinMaxScaler(feature_range=(1,5)).fit(df[[\"commment_count\"]]).transform(df[[\"commment_count\"]])"
   ]
  },
  {
   "cell_type": "code",
   "execution_count": 23,
   "id": "1f82b15a",
   "metadata": {
    "execution": {
     "iopub.execute_input": "2023-11-08T12:32:27.825706Z",
     "iopub.status.busy": "2023-11-08T12:32:27.825326Z",
     "iopub.status.idle": "2023-11-08T12:32:27.835506Z",
     "shell.execute_reply": "2023-11-08T12:32:27.834374Z"
    },
    "papermill": {
     "duration": 0.028326,
     "end_time": "2023-11-08T12:32:27.837706",
     "exception": false,
     "start_time": "2023-11-08T12:32:27.809380",
     "status": "completed"
    },
    "tags": []
   },
   "outputs": [
    {
     "data": {
      "text/plain": [
       "0     4.249884\n",
       "1     4.795104\n",
       "2     3.483494\n",
       "3     2.937105\n",
       "4     3.022039\n",
       "5     2.751651\n",
       "6     2.857214\n",
       "7     2.522386\n",
       "8     2.759901\n",
       "9     2.816233\n",
       "10    3.427921\n",
       "11    2.987387\n",
       "12    2.528686\n",
       "13    2.721863\n",
       "14    3.501984\n",
       "15    3.365772\n",
       "16    2.517977\n",
       "17    2.282315\n",
       "18    2.458066\n",
       "19    2.726593\n",
       "20    3.681563\n",
       "21    2.519056\n",
       "22    2.538280\n",
       "23    2.354586\n",
       "24    2.264794\n",
       "25    2.021050\n",
       "26    2.436116\n",
       "27    2.561682\n",
       "28    2.544666\n",
       "29    1.925836\n",
       "30    1.924000\n",
       "31    2.273764\n",
       "dtype: float64"
      ]
     },
     "execution_count": 23,
     "metadata": {},
     "output_type": "execute_result"
    }
   ],
   "source": [
    "#Weights can be assigned personally; we gave the highest weight to rating, which is 42%, but it can be changed. \n",
    "#We assigned 26% to purchases, but for instance, there might have been free giveaways outside of the purchased course.\n",
    "#Giving 32% based on comments, 26% based on purchases, and 42% based on ratings, we calculated the scores:\n",
    "(df[\"comment_count_scaled\"] * 32 / 100 +\n",
    " df[\"purchase_count_scaled\"] * 26 / 100 +\n",
    " df[\"rating\"] * 42 / 100)\n",
    "\n",
    "#We examine the scores by assigning weights to see the social proof."
   ]
  },
  {
   "cell_type": "code",
   "execution_count": 24,
   "id": "cdbf3683",
   "metadata": {
    "execution": {
     "iopub.execute_input": "2023-11-08T12:32:27.869620Z",
     "iopub.status.busy": "2023-11-08T12:32:27.869245Z",
     "iopub.status.idle": "2023-11-08T12:32:27.876501Z",
     "shell.execute_reply": "2023-11-08T12:32:27.875485Z"
    },
    "papermill": {
     "duration": 0.02603,
     "end_time": "2023-11-08T12:32:27.878659",
     "exception": false,
     "start_time": "2023-11-08T12:32:27.852629",
     "status": "completed"
    },
    "tags": []
   },
   "outputs": [],
   "source": [
    "#in one function\n",
    "def weighted_sorting_score(dataframe, w1=32, w2=26, w3=42):\n",
    "    return (dataframe[\"comment_count_scaled\"] * w1 / 100 +\n",
    "            dataframe[\"purchase_count_scaled\"]* w2 / 100 +\n",
    "            dataframe[\"rating\"] * w3 /100)\n",
    "\n",
    "df[\"weighted_sorting_score\"] = weighted_sorting_score(df)"
   ]
  },
  {
   "cell_type": "code",
   "execution_count": 25,
   "id": "983379d5",
   "metadata": {
    "execution": {
     "iopub.execute_input": "2023-11-08T12:32:27.911061Z",
     "iopub.status.busy": "2023-11-08T12:32:27.910665Z",
     "iopub.status.idle": "2023-11-08T12:32:27.930287Z",
     "shell.execute_reply": "2023-11-08T12:32:27.928977Z"
    },
    "papermill": {
     "duration": 0.038435,
     "end_time": "2023-11-08T12:32:27.932780",
     "exception": false,
     "start_time": "2023-11-08T12:32:27.894345",
     "status": "completed"
    },
    "tags": []
   },
   "outputs": [
    {
     "data": {
      "text/html": [
       "<div>\n",
       "<style scoped>\n",
       "    .dataframe tbody tr th:only-of-type {\n",
       "        vertical-align: middle;\n",
       "    }\n",
       "\n",
       "    .dataframe tbody tr th {\n",
       "        vertical-align: top;\n",
       "    }\n",
       "\n",
       "    .dataframe thead th {\n",
       "        text-align: right;\n",
       "    }\n",
       "</style>\n",
       "<table border=\"1\" class=\"dataframe\">\n",
       "  <thead>\n",
       "    <tr style=\"text-align: right;\">\n",
       "      <th></th>\n",
       "      <th>course_name</th>\n",
       "      <th>instructor_name</th>\n",
       "      <th>purchase_count</th>\n",
       "      <th>rating</th>\n",
       "      <th>commment_count</th>\n",
       "      <th>5_point</th>\n",
       "      <th>4_point</th>\n",
       "      <th>3_point</th>\n",
       "      <th>2_point</th>\n",
       "      <th>1_point</th>\n",
       "      <th>purchase_count_scaled</th>\n",
       "      <th>comment_count_scaled</th>\n",
       "      <th>weighted_sorting_score</th>\n",
       "    </tr>\n",
       "  </thead>\n",
       "  <tbody>\n",
       "    <tr>\n",
       "      <th>1</th>\n",
       "      <td>Python: Yapay Zeka ve Veri Bilimi için Python ...</td>\n",
       "      <td>Veri Bilimi Okulu</td>\n",
       "      <td>48291</td>\n",
       "      <td>4.6</td>\n",
       "      <td>4488</td>\n",
       "      <td>2962</td>\n",
       "      <td>1122</td>\n",
       "      <td>314</td>\n",
       "      <td>45</td>\n",
       "      <td>45</td>\n",
       "      <td>5.000000</td>\n",
       "      <td>4.884699</td>\n",
       "      <td>4.795104</td>\n",
       "    </tr>\n",
       "    <tr>\n",
       "      <th>0</th>\n",
       "      <td>(50+ Saat) Python A-Z™: Veri Bilimi ve Machine...</td>\n",
       "      <td>Veri Bilimi Okulu</td>\n",
       "      <td>17380</td>\n",
       "      <td>4.8</td>\n",
       "      <td>4621</td>\n",
       "      <td>3466</td>\n",
       "      <td>924</td>\n",
       "      <td>185</td>\n",
       "      <td>46</td>\n",
       "      <td>6</td>\n",
       "      <td>2.438014</td>\n",
       "      <td>5.000000</td>\n",
       "      <td>4.249884</td>\n",
       "    </tr>\n",
       "    <tr>\n",
       "      <th>20</th>\n",
       "      <td>Course_9</td>\n",
       "      <td>Instructor_3</td>\n",
       "      <td>12946</td>\n",
       "      <td>4.5</td>\n",
       "      <td>3371</td>\n",
       "      <td>2191</td>\n",
       "      <td>877</td>\n",
       "      <td>203</td>\n",
       "      <td>33</td>\n",
       "      <td>67</td>\n",
       "      <td>2.070512</td>\n",
       "      <td>3.916342</td>\n",
       "      <td>3.681563</td>\n",
       "    </tr>\n",
       "    <tr>\n",
       "      <th>14</th>\n",
       "      <td>Uçtan Uca SQL Server Eğitimi</td>\n",
       "      <td>Veri Bilimi Okulu</td>\n",
       "      <td>12893</td>\n",
       "      <td>4.7</td>\n",
       "      <td>2425</td>\n",
       "      <td>1722</td>\n",
       "      <td>510</td>\n",
       "      <td>145</td>\n",
       "      <td>24</td>\n",
       "      <td>24</td>\n",
       "      <td>2.066120</td>\n",
       "      <td>3.096229</td>\n",
       "      <td>3.501984</td>\n",
       "    </tr>\n",
       "    <tr>\n",
       "      <th>2</th>\n",
       "      <td>5 Saatte Veri Bilimci Olun (Valla Billa)</td>\n",
       "      <td>Instructor_1</td>\n",
       "      <td>18693</td>\n",
       "      <td>4.4</td>\n",
       "      <td>2362</td>\n",
       "      <td>1582</td>\n",
       "      <td>567</td>\n",
       "      <td>165</td>\n",
       "      <td>24</td>\n",
       "      <td>24</td>\n",
       "      <td>2.546839</td>\n",
       "      <td>3.041612</td>\n",
       "      <td>3.483494</td>\n",
       "    </tr>\n",
       "    <tr>\n",
       "      <th>10</th>\n",
       "      <td>İleri Düzey Excel|Dashboard|Excel İp Uçları</td>\n",
       "      <td>Veri Bilimi Okulu</td>\n",
       "      <td>9554</td>\n",
       "      <td>4.8</td>\n",
       "      <td>2266</td>\n",
       "      <td>1654</td>\n",
       "      <td>499</td>\n",
       "      <td>91</td>\n",
       "      <td>22</td>\n",
       "      <td>0</td>\n",
       "      <td>1.789374</td>\n",
       "      <td>2.958388</td>\n",
       "      <td>3.427921</td>\n",
       "    </tr>\n",
       "    <tr>\n",
       "      <th>15</th>\n",
       "      <td>Uygulamalarla SQL Öğreniyorum</td>\n",
       "      <td>Veri Bilimi Okulu</td>\n",
       "      <td>11397</td>\n",
       "      <td>4.5</td>\n",
       "      <td>2353</td>\n",
       "      <td>1435</td>\n",
       "      <td>705</td>\n",
       "      <td>165</td>\n",
       "      <td>24</td>\n",
       "      <td>24</td>\n",
       "      <td>1.942127</td>\n",
       "      <td>3.033810</td>\n",
       "      <td>3.365772</td>\n",
       "    </tr>\n",
       "    <tr>\n",
       "      <th>4</th>\n",
       "      <td>(2020) Python ile Makine Öğrenmesi (Machine Le...</td>\n",
       "      <td>Veri Bilimi Okulu</td>\n",
       "      <td>11314</td>\n",
       "      <td>4.6</td>\n",
       "      <td>969</td>\n",
       "      <td>717</td>\n",
       "      <td>194</td>\n",
       "      <td>38</td>\n",
       "      <td>10</td>\n",
       "      <td>10</td>\n",
       "      <td>1.935248</td>\n",
       "      <td>1.833984</td>\n",
       "      <td>3.022039</td>\n",
       "    </tr>\n",
       "    <tr>\n",
       "      <th>11</th>\n",
       "      <td>Course_3</td>\n",
       "      <td>Instructor_4</td>\n",
       "      <td>24809</td>\n",
       "      <td>4.3</td>\n",
       "      <td>250</td>\n",
       "      <td>95</td>\n",
       "      <td>87</td>\n",
       "      <td>51</td>\n",
       "      <td>12</td>\n",
       "      <td>5</td>\n",
       "      <td>3.053749</td>\n",
       "      <td>1.210663</td>\n",
       "      <td>2.987387</td>\n",
       "    </tr>\n",
       "    <tr>\n",
       "      <th>3</th>\n",
       "      <td>R ile Veri Bilimi ve Machine Learning (35 Saat)</td>\n",
       "      <td>Veri Bilimi Okulu</td>\n",
       "      <td>6626</td>\n",
       "      <td>4.6</td>\n",
       "      <td>1027</td>\n",
       "      <td>688</td>\n",
       "      <td>257</td>\n",
       "      <td>51</td>\n",
       "      <td>10</td>\n",
       "      <td>21</td>\n",
       "      <td>1.546694</td>\n",
       "      <td>1.884265</td>\n",
       "      <td>2.937105</td>\n",
       "    </tr>\n",
       "  </tbody>\n",
       "</table>\n",
       "</div>"
      ],
      "text/plain": [
       "                                          course_name    instructor_name  \\\n",
       "1   Python: Yapay Zeka ve Veri Bilimi için Python ...  Veri Bilimi Okulu   \n",
       "0   (50+ Saat) Python A-Z™: Veri Bilimi ve Machine...  Veri Bilimi Okulu   \n",
       "20                                           Course_9       Instructor_3   \n",
       "14                       Uçtan Uca SQL Server Eğitimi  Veri Bilimi Okulu   \n",
       "2            5 Saatte Veri Bilimci Olun (Valla Billa)       Instructor_1   \n",
       "10        İleri Düzey Excel|Dashboard|Excel İp Uçları  Veri Bilimi Okulu   \n",
       "15                      Uygulamalarla SQL Öğreniyorum  Veri Bilimi Okulu   \n",
       "4   (2020) Python ile Makine Öğrenmesi (Machine Le...  Veri Bilimi Okulu   \n",
       "11                                           Course_3       Instructor_4   \n",
       "3     R ile Veri Bilimi ve Machine Learning (35 Saat)  Veri Bilimi Okulu   \n",
       "\n",
       "    purchase_count  rating  commment_count  5_point  4_point  3_point  \\\n",
       "1            48291     4.6            4488     2962     1122      314   \n",
       "0            17380     4.8            4621     3466      924      185   \n",
       "20           12946     4.5            3371     2191      877      203   \n",
       "14           12893     4.7            2425     1722      510      145   \n",
       "2            18693     4.4            2362     1582      567      165   \n",
       "10            9554     4.8            2266     1654      499       91   \n",
       "15           11397     4.5            2353     1435      705      165   \n",
       "4            11314     4.6             969      717      194       38   \n",
       "11           24809     4.3             250       95       87       51   \n",
       "3             6626     4.6            1027      688      257       51   \n",
       "\n",
       "    2_point  1_point  purchase_count_scaled  comment_count_scaled  \\\n",
       "1        45       45               5.000000              4.884699   \n",
       "0        46        6               2.438014              5.000000   \n",
       "20       33       67               2.070512              3.916342   \n",
       "14       24       24               2.066120              3.096229   \n",
       "2        24       24               2.546839              3.041612   \n",
       "10       22        0               1.789374              2.958388   \n",
       "15       24       24               1.942127              3.033810   \n",
       "4        10       10               1.935248              1.833984   \n",
       "11       12        5               3.053749              1.210663   \n",
       "3        10       21               1.546694              1.884265   \n",
       "\n",
       "    weighted_sorting_score  \n",
       "1                 4.795104  \n",
       "0                 4.249884  \n",
       "20                3.681563  \n",
       "14                3.501984  \n",
       "2                 3.483494  \n",
       "10                3.427921  \n",
       "15                3.365772  \n",
       "4                 3.022039  \n",
       "11                2.987387  \n",
       "3                 2.937105  "
      ]
     },
     "execution_count": 25,
     "metadata": {},
     "output_type": "execute_result"
    }
   ],
   "source": [
    "#By shaping the weights of the three factors, we made a well-structured ranking.\n",
    "df.sort_values(\"weighted_sorting_score\", ascending=False).head(10)"
   ]
  },
  {
   "cell_type": "markdown",
   "id": "1b29ef7e",
   "metadata": {
    "papermill": {
     "duration": 0.015479,
     "end_time": "2023-11-08T12:32:27.963683",
     "exception": false,
     "start_time": "2023-11-08T12:32:27.948204",
     "status": "completed"
    },
    "tags": []
   },
   "source": [
    "<div style=\"border-radius:10px; border:#D0C2F0 solid; padding: 15px; background-color: #FFF0F4; font-size:100%; text-align:left\">\n",
    "\n",
    "<h3 align=\"center\"><font color='#5E5273'> Bayesian Average Rating Score </font></h3>"
   ]
  },
  {
   "cell_type": "code",
   "execution_count": 26,
   "id": "642604b8",
   "metadata": {
    "execution": {
     "iopub.execute_input": "2023-11-08T12:32:27.997296Z",
     "iopub.status.busy": "2023-11-08T12:32:27.996893Z",
     "iopub.status.idle": "2023-11-08T12:32:28.005023Z",
     "shell.execute_reply": "2023-11-08T12:32:28.003815Z"
    },
    "papermill": {
     "duration": 0.027018,
     "end_time": "2023-11-08T12:32:28.007367",
     "exception": false,
     "start_time": "2023-11-08T12:32:27.980349",
     "status": "completed"
    },
    "tags": []
   },
   "outputs": [],
   "source": [
    "#It calculates a weighted probabilistic mean over the rating distributions. \n",
    "#We need to provide the 5_point, 4_point, 3_point, 2_point, and 1_point from the dataset.\n",
    "def bayesian_average_rating(n, confidence=0.95):\n",
    "    if sum(n) == 0:\n",
    "        return 0\n",
    "    K = len(n)\n",
    "    z = st.norm.ppf(1 - (1 - confidence) / 2)\n",
    "    N = sum(n)\n",
    "    first_part = 0.0\n",
    "    second_part = 0.0\n",
    "    for k, n_k in enumerate(n):\n",
    "        first_part += (k+1) * (n[k]+ 1) / (N + K)\n",
    "        second_part += (k +1 ) * (k +1) * (n[k] + 1) / (N + K)\n",
    "    score = first_part - z * math.sqrt((second_part - first_part * first_part) / (N + K + 1))\n",
    "    return score"
   ]
  },
  {
   "cell_type": "code",
   "execution_count": 27,
   "id": "71817f3a",
   "metadata": {
    "execution": {
     "iopub.execute_input": "2023-11-08T12:32:28.039992Z",
     "iopub.status.busy": "2023-11-08T12:32:28.039267Z",
     "iopub.status.idle": "2023-11-08T12:32:28.074939Z",
     "shell.execute_reply": "2023-11-08T12:32:28.073813Z"
    },
    "papermill": {
     "duration": 0.054749,
     "end_time": "2023-11-08T12:32:28.077457",
     "exception": false,
     "start_time": "2023-11-08T12:32:28.022708",
     "status": "completed"
    },
    "tags": []
   },
   "outputs": [],
   "source": [
    "#They can be named as \"Bar Sorting Score,\" \"Bar Rating,\" and \"Bar Average Rating.\"\n",
    "df[\"bar_score\"] = df.apply(lambda x: bayesian_average_rating(x[[\"1_point\",\n",
    "                                                                \"2_point\",\n",
    "                                                                \"3_point\",\n",
    "                                                                \"4_point\",\n",
    "                                                                \"5_point\"]]), axis=1)"
   ]
  },
  {
   "cell_type": "markdown",
   "id": "2ad9d4a0",
   "metadata": {
    "papermill": {
     "duration": 0.015749,
     "end_time": "2023-11-08T12:32:28.108799",
     "exception": false,
     "start_time": "2023-11-08T12:32:28.093050",
     "status": "completed"
    },
    "tags": []
   },
   "source": [
    "> If I had a reference point for all purchases and comments and had full confidence in them, using the Bayes method would have yielded the most accurate and consistent ranking scientifically.\n",
    "\n",
    "> Since we will be putting these values into further processes later, and because they are values generated with reference to the distribution, we can call it a \"score.\" The \"Bar Score\" provides us with a ranking focusing solely on ratings, while the \"Weighted Sorting Score,\" created by considering multiple values, will differ. Both the Bar Score and Weighted Sorting Score can be used."
   ]
  },
  {
   "cell_type": "markdown",
   "id": "2f42d0fa",
   "metadata": {
    "papermill": {
     "duration": 0.014786,
     "end_time": "2023-11-08T12:32:28.138850",
     "exception": false,
     "start_time": "2023-11-08T12:32:28.124064",
     "status": "completed"
    },
    "tags": []
   },
   "source": [
    "<div style=\"border-radius:10px; border:#D0C2F0 solid; padding: 15px; background-color: #FFF0F4; font-size:100%; text-align:left\">\n",
    "\n",
    "<h3 align=\"center\"><font color='#5E5273'> Hybrid Product Sorting </font></h3>"
   ]
  },
  {
   "cell_type": "code",
   "execution_count": 28,
   "id": "d4233d04",
   "metadata": {
    "execution": {
     "iopub.execute_input": "2023-11-08T12:32:28.171491Z",
     "iopub.status.busy": "2023-11-08T12:32:28.171079Z",
     "iopub.status.idle": "2023-11-08T12:32:28.176727Z",
     "shell.execute_reply": "2023-11-08T12:32:28.175912Z"
    },
    "papermill": {
     "duration": 0.024858,
     "end_time": "2023-11-08T12:32:28.178958",
     "exception": false,
     "start_time": "2023-11-08T12:32:28.154100",
     "status": "completed"
    },
    "tags": []
   },
   "outputs": [],
   "source": [
    "def hybrid_sorting_score(dataframe, bar_w=60, wss_w=40):\n",
    "    bar_score = dataframe.apply(lambda x: bayesian_average_rating(x[[\"1_point\",\n",
    "                                                                     \"2_point\",\n",
    "                                                                     \"3_point\",\n",
    "                                                                     \"4_point\",\n",
    "                                                                     \"5_point\"]]),axis=1)\n",
    "    wss_score = weighted_sorting_score(dataframe)\n",
    "    return bar_score*bar_w/100 + wss_score*wss_w/100"
   ]
  },
  {
   "cell_type": "code",
   "execution_count": 29,
   "id": "7f84d7b5",
   "metadata": {
    "execution": {
     "iopub.execute_input": "2023-11-08T12:32:28.212383Z",
     "iopub.status.busy": "2023-11-08T12:32:28.211993Z",
     "iopub.status.idle": "2023-11-08T12:32:28.261188Z",
     "shell.execute_reply": "2023-11-08T12:32:28.260282Z"
    },
    "papermill": {
     "duration": 0.068729,
     "end_time": "2023-11-08T12:32:28.263486",
     "exception": false,
     "start_time": "2023-11-08T12:32:28.194757",
     "status": "completed"
    },
    "tags": []
   },
   "outputs": [
    {
     "data": {
      "text/html": [
       "<div>\n",
       "<style scoped>\n",
       "    .dataframe tbody tr th:only-of-type {\n",
       "        vertical-align: middle;\n",
       "    }\n",
       "\n",
       "    .dataframe tbody tr th {\n",
       "        vertical-align: top;\n",
       "    }\n",
       "\n",
       "    .dataframe thead th {\n",
       "        text-align: right;\n",
       "    }\n",
       "</style>\n",
       "<table border=\"1\" class=\"dataframe\">\n",
       "  <thead>\n",
       "    <tr style=\"text-align: right;\">\n",
       "      <th></th>\n",
       "      <th>course_name</th>\n",
       "      <th>instructor_name</th>\n",
       "      <th>purchase_count</th>\n",
       "      <th>rating</th>\n",
       "      <th>commment_count</th>\n",
       "      <th>5_point</th>\n",
       "      <th>4_point</th>\n",
       "      <th>3_point</th>\n",
       "      <th>2_point</th>\n",
       "      <th>1_point</th>\n",
       "      <th>purchase_count_scaled</th>\n",
       "      <th>comment_count_scaled</th>\n",
       "      <th>weighted_sorting_score</th>\n",
       "      <th>bar_score</th>\n",
       "      <th>hybrid_sorting_score</th>\n",
       "    </tr>\n",
       "  </thead>\n",
       "  <tbody>\n",
       "    <tr>\n",
       "      <th>1</th>\n",
       "      <td>Python: Yapay Zeka ve Veri Bilimi için Python ...</td>\n",
       "      <td>Veri Bilimi Okulu</td>\n",
       "      <td>48291</td>\n",
       "      <td>4.6</td>\n",
       "      <td>4488</td>\n",
       "      <td>2962</td>\n",
       "      <td>1122</td>\n",
       "      <td>314</td>\n",
       "      <td>45</td>\n",
       "      <td>45</td>\n",
       "      <td>5.000000</td>\n",
       "      <td>4.884699</td>\n",
       "      <td>4.795104</td>\n",
       "      <td>4.516038</td>\n",
       "      <td>4.627664</td>\n",
       "    </tr>\n",
       "    <tr>\n",
       "      <th>0</th>\n",
       "      <td>(50+ Saat) Python A-Z™: Veri Bilimi ve Machine...</td>\n",
       "      <td>Veri Bilimi Okulu</td>\n",
       "      <td>17380</td>\n",
       "      <td>4.8</td>\n",
       "      <td>4621</td>\n",
       "      <td>3466</td>\n",
       "      <td>924</td>\n",
       "      <td>185</td>\n",
       "      <td>46</td>\n",
       "      <td>6</td>\n",
       "      <td>2.438014</td>\n",
       "      <td>5.000000</td>\n",
       "      <td>4.249884</td>\n",
       "      <td>4.665857</td>\n",
       "      <td>4.499468</td>\n",
       "    </tr>\n",
       "    <tr>\n",
       "      <th>20</th>\n",
       "      <td>Course_9</td>\n",
       "      <td>Instructor_3</td>\n",
       "      <td>12946</td>\n",
       "      <td>4.5</td>\n",
       "      <td>3371</td>\n",
       "      <td>2191</td>\n",
       "      <td>877</td>\n",
       "      <td>203</td>\n",
       "      <td>33</td>\n",
       "      <td>67</td>\n",
       "      <td>2.070512</td>\n",
       "      <td>3.916342</td>\n",
       "      <td>3.681563</td>\n",
       "      <td>4.480627</td>\n",
       "      <td>4.161001</td>\n",
       "    </tr>\n",
       "    <tr>\n",
       "      <th>10</th>\n",
       "      <td>İleri Düzey Excel|Dashboard|Excel İp Uçları</td>\n",
       "      <td>Veri Bilimi Okulu</td>\n",
       "      <td>9554</td>\n",
       "      <td>4.8</td>\n",
       "      <td>2266</td>\n",
       "      <td>1654</td>\n",
       "      <td>499</td>\n",
       "      <td>91</td>\n",
       "      <td>22</td>\n",
       "      <td>0</td>\n",
       "      <td>1.789374</td>\n",
       "      <td>2.958388</td>\n",
       "      <td>3.427921</td>\n",
       "      <td>4.641679</td>\n",
       "      <td>4.156176</td>\n",
       "    </tr>\n",
       "    <tr>\n",
       "      <th>14</th>\n",
       "      <td>Uçtan Uca SQL Server Eğitimi</td>\n",
       "      <td>Veri Bilimi Okulu</td>\n",
       "      <td>12893</td>\n",
       "      <td>4.7</td>\n",
       "      <td>2425</td>\n",
       "      <td>1722</td>\n",
       "      <td>510</td>\n",
       "      <td>145</td>\n",
       "      <td>24</td>\n",
       "      <td>24</td>\n",
       "      <td>2.066120</td>\n",
       "      <td>3.096229</td>\n",
       "      <td>3.501984</td>\n",
       "      <td>4.568162</td>\n",
       "      <td>4.141691</td>\n",
       "    </tr>\n",
       "  </tbody>\n",
       "</table>\n",
       "</div>"
      ],
      "text/plain": [
       "                                          course_name    instructor_name  \\\n",
       "1   Python: Yapay Zeka ve Veri Bilimi için Python ...  Veri Bilimi Okulu   \n",
       "0   (50+ Saat) Python A-Z™: Veri Bilimi ve Machine...  Veri Bilimi Okulu   \n",
       "20                                           Course_9       Instructor_3   \n",
       "10        İleri Düzey Excel|Dashboard|Excel İp Uçları  Veri Bilimi Okulu   \n",
       "14                       Uçtan Uca SQL Server Eğitimi  Veri Bilimi Okulu   \n",
       "\n",
       "    purchase_count  rating  commment_count  5_point  4_point  3_point  \\\n",
       "1            48291     4.6            4488     2962     1122      314   \n",
       "0            17380     4.8            4621     3466      924      185   \n",
       "20           12946     4.5            3371     2191      877      203   \n",
       "10            9554     4.8            2266     1654      499       91   \n",
       "14           12893     4.7            2425     1722      510      145   \n",
       "\n",
       "    2_point  1_point  purchase_count_scaled  comment_count_scaled  \\\n",
       "1        45       45               5.000000              4.884699   \n",
       "0        46        6               2.438014              5.000000   \n",
       "20       33       67               2.070512              3.916342   \n",
       "10       22        0               1.789374              2.958388   \n",
       "14       24       24               2.066120              3.096229   \n",
       "\n",
       "    weighted_sorting_score  bar_score  hybrid_sorting_score  \n",
       "1                 4.795104   4.516038              4.627664  \n",
       "0                 4.249884   4.665857              4.499468  \n",
       "20                3.681563   4.480627              4.161001  \n",
       "10                3.427921   4.641679              4.156176  \n",
       "14                3.501984   4.568162              4.141691  "
      ]
     },
     "execution_count": 29,
     "metadata": {},
     "output_type": "execute_result"
    }
   ],
   "source": [
    "#A ranking process has been carried out in a way that is scientific, business-savvy, and also gives a chance to new potential stars.\n",
    "#By giving 60% weight to the Bar Score, we captured the promising ones.\n",
    "df[\"hybrid_sorting_score\"] = hybrid_sorting_score(df)\n",
    "df.sort_values(\"hybrid_sorting_score\", ascending=False).head(5)"
   ]
  },
  {
   "cell_type": "markdown",
   "id": "1755bf8f",
   "metadata": {
    "papermill": {
     "duration": 0.015771,
     "end_time": "2023-11-08T12:32:28.295235",
     "exception": false,
     "start_time": "2023-11-08T12:32:28.279464",
     "status": "completed"
    },
    "tags": []
   },
   "source": [
    "# <p style=\"border-radius:10px; border:#DEB887 solid; padding:25px; background-color: #FFFAF0; font-size:100%;color:#52017A;text-align:center;\"> Sorting Reviews  </p>"
   ]
  },
  {
   "cell_type": "markdown",
   "id": "7817ecdd",
   "metadata": {
    "papermill": {
     "duration": 0.015441,
     "end_time": "2023-11-08T12:32:28.327077",
     "exception": false,
     "start_time": "2023-11-08T12:32:28.311636",
     "status": "completed"
    },
    "tags": []
   },
   "source": [
    "> No matter whether it's a good or bad review, the emphasis should be on highlighting the comments that other people find helpful."
   ]
  },
  {
   "cell_type": "code",
   "execution_count": 30,
   "id": "b425eba3",
   "metadata": {
    "execution": {
     "iopub.execute_input": "2023-11-08T12:32:28.359717Z",
     "iopub.status.busy": "2023-11-08T12:32:28.359329Z",
     "iopub.status.idle": "2023-11-08T12:32:28.364208Z",
     "shell.execute_reply": "2023-11-08T12:32:28.363182Z"
    },
    "papermill": {
     "duration": 0.023814,
     "end_time": "2023-11-08T12:32:28.366394",
     "exception": false,
     "start_time": "2023-11-08T12:32:28.342580",
     "status": "completed"
    },
    "tags": []
   },
   "outputs": [],
   "source": [
    "#First we are gonna start with  up-down diff score =  up ratings -  down ratings\n",
    "\n",
    "def score_up_down_diff(up,down):\n",
    "    return up - down"
   ]
  },
  {
   "cell_type": "code",
   "execution_count": 31,
   "id": "e073a9c6",
   "metadata": {
    "execution": {
     "iopub.execute_input": "2023-11-08T12:32:28.402270Z",
     "iopub.status.busy": "2023-11-08T12:32:28.401914Z",
     "iopub.status.idle": "2023-11-08T12:32:28.405835Z",
     "shell.execute_reply": "2023-11-08T12:32:28.404977Z"
    },
    "papermill": {
     "duration": 0.023745,
     "end_time": "2023-11-08T12:32:28.407818",
     "exception": false,
     "start_time": "2023-11-08T12:32:28.384073",
     "status": "completed"
    },
    "tags": []
   },
   "outputs": [],
   "source": [
    "#scenerio 1 and 2\n",
    "#review 1: 600 up 400 down total 1000\n",
    "#review 2: 5500 up 4500 down total 10000"
   ]
  },
  {
   "cell_type": "code",
   "execution_count": 32,
   "id": "4b31760a",
   "metadata": {
    "execution": {
     "iopub.execute_input": "2023-11-08T12:32:28.444017Z",
     "iopub.status.busy": "2023-11-08T12:32:28.443637Z",
     "iopub.status.idle": "2023-11-08T12:32:28.449641Z",
     "shell.execute_reply": "2023-11-08T12:32:28.448774Z"
    },
    "papermill": {
     "duration": 0.02632,
     "end_time": "2023-11-08T12:32:28.451688",
     "exception": false,
     "start_time": "2023-11-08T12:32:28.425368",
     "status": "completed"
    },
    "tags": []
   },
   "outputs": [
    {
     "data": {
      "text/plain": [
       "200"
      ]
     },
     "execution_count": 32,
     "metadata": {},
     "output_type": "execute_result"
    }
   ],
   "source": [
    "#review1\n",
    "score_up_down_diff(600,400)\n",
    "#%60 positive score"
   ]
  },
  {
   "cell_type": "code",
   "execution_count": 33,
   "id": "8e3f9b68",
   "metadata": {
    "execution": {
     "iopub.execute_input": "2023-11-08T12:32:28.485021Z",
     "iopub.status.busy": "2023-11-08T12:32:28.484596Z",
     "iopub.status.idle": "2023-11-08T12:32:28.490268Z",
     "shell.execute_reply": "2023-11-08T12:32:28.489499Z"
    },
    "papermill": {
     "duration": 0.024475,
     "end_time": "2023-11-08T12:32:28.492245",
     "exception": false,
     "start_time": "2023-11-08T12:32:28.467770",
     "status": "completed"
    },
    "tags": []
   },
   "outputs": [
    {
     "data": {
      "text/plain": [
       "1000"
      ]
     },
     "execution_count": 33,
     "metadata": {},
     "output_type": "execute_result"
    }
   ],
   "source": [
    "score_up_down_diff(5500,4500)\n",
    "#%55 positive score  score"
   ]
  },
  {
   "cell_type": "markdown",
   "id": "0e2e0837",
   "metadata": {
    "papermill": {
     "duration": 0.016483,
     "end_time": "2023-11-08T12:32:28.524713",
     "exception": false,
     "start_time": "2023-11-08T12:32:28.508230",
     "status": "completed"
    },
    "tags": []
   },
   "source": [
    "> Even tough second scenerio have %55 positive score it has 1000 score so it will be recommended which is shouldnt. %60 positive score must be recommended."
   ]
  },
  {
   "cell_type": "code",
   "execution_count": 34,
   "id": "7c8f326f",
   "metadata": {
    "execution": {
     "iopub.execute_input": "2023-11-08T12:32:28.558664Z",
     "iopub.status.busy": "2023-11-08T12:32:28.558281Z",
     "iopub.status.idle": "2023-11-08T12:32:28.563550Z",
     "shell.execute_reply": "2023-11-08T12:32:28.562465Z"
    },
    "papermill": {
     "duration": 0.025168,
     "end_time": "2023-11-08T12:32:28.565790",
     "exception": false,
     "start_time": "2023-11-08T12:32:28.540622",
     "status": "completed"
    },
    "tags": []
   },
   "outputs": [],
   "source": [
    "#to solve this problem we have second function. (Average RAting)   score  =  up ratings / all ratings\n",
    "def score_average_rating(up,down):\n",
    "    if up + down == 0:\n",
    "        return 0\n",
    "    return up / (up+down)"
   ]
  },
  {
   "cell_type": "code",
   "execution_count": 35,
   "id": "9a677c92",
   "metadata": {
    "execution": {
     "iopub.execute_input": "2023-11-08T12:32:28.599464Z",
     "iopub.status.busy": "2023-11-08T12:32:28.599072Z",
     "iopub.status.idle": "2023-11-08T12:32:28.605790Z",
     "shell.execute_reply": "2023-11-08T12:32:28.604686Z"
    },
    "papermill": {
     "duration": 0.026198,
     "end_time": "2023-11-08T12:32:28.607953",
     "exception": false,
     "start_time": "2023-11-08T12:32:28.581755",
     "status": "completed"
    },
    "tags": []
   },
   "outputs": [
    {
     "data": {
      "text/plain": [
       "0.6"
      ]
     },
     "execution_count": 35,
     "metadata": {},
     "output_type": "execute_result"
    }
   ],
   "source": [
    "score_average_rating(600,400)\n",
    "#0.6 rate"
   ]
  },
  {
   "cell_type": "code",
   "execution_count": 36,
   "id": "41d65670",
   "metadata": {
    "execution": {
     "iopub.execute_input": "2023-11-08T12:32:28.643309Z",
     "iopub.status.busy": "2023-11-08T12:32:28.642770Z",
     "iopub.status.idle": "2023-11-08T12:32:28.649869Z",
     "shell.execute_reply": "2023-11-08T12:32:28.648581Z"
    },
    "papermill": {
     "duration": 0.026564,
     "end_time": "2023-11-08T12:32:28.652066",
     "exception": false,
     "start_time": "2023-11-08T12:32:28.625502",
     "status": "completed"
    },
    "tags": []
   },
   "outputs": [
    {
     "data": {
      "text/plain": [
       "0.55"
      ]
     },
     "execution_count": 36,
     "metadata": {},
     "output_type": "execute_result"
    }
   ],
   "source": [
    "score_average_rating(5500, 4500)\n",
    "#0.55 rate\n",
    "#we can say it works really great but yet we have another problem..."
   ]
  },
  {
   "cell_type": "code",
   "execution_count": 37,
   "id": "10f76c35",
   "metadata": {
    "execution": {
     "iopub.execute_input": "2023-11-08T12:32:28.686913Z",
     "iopub.status.busy": "2023-11-08T12:32:28.686504Z",
     "iopub.status.idle": "2023-11-08T12:32:28.692563Z",
     "shell.execute_reply": "2023-11-08T12:32:28.691469Z"
    },
    "papermill": {
     "duration": 0.026715,
     "end_time": "2023-11-08T12:32:28.695085",
     "exception": false,
     "start_time": "2023-11-08T12:32:28.668370",
     "status": "completed"
    },
    "tags": []
   },
   "outputs": [
    {
     "name": "stdout",
     "output_type": "stream",
     "text": [
      "1.0\n",
      "0.9900990099009901\n"
     ]
    }
   ],
   "source": [
    "#Lets check this scenerio;\n",
    "#review1: 2 up 0 down total 2\n",
    "#review2: 100 up 1 down total 101\n",
    "\n",
    "print(score_average_rating(2,0))\n",
    "#gives %100 rating \n",
    "print(score_average_rating(100, 1))\n",
    "#and gives %99 rating\n",
    "\n",
    "#which is not acceptable, 100 up 1 down should be recommended but it recommend 2 up 0 down...\n",
    "#The frequency didn't correlate with the numerical height"
   ]
  },
  {
   "cell_type": "code",
   "execution_count": 38,
   "id": "919853c7",
   "metadata": {
    "execution": {
     "iopub.execute_input": "2023-11-08T12:32:28.729485Z",
     "iopub.status.busy": "2023-11-08T12:32:28.729076Z",
     "iopub.status.idle": "2023-11-08T12:32:28.735523Z",
     "shell.execute_reply": "2023-11-08T12:32:28.734313Z"
    },
    "papermill": {
     "duration": 0.026311,
     "end_time": "2023-11-08T12:32:28.737814",
     "exception": false,
     "start_time": "2023-11-08T12:32:28.711503",
     "status": "completed"
    },
    "tags": []
   },
   "outputs": [],
   "source": [
    "# Wilson lower bound score\n",
    "def wilson_lower_bound(up,down,confidence=0.95):\n",
    "    n = up + down\n",
    "    if n == 0:\n",
    "        return 0\n",
    "    z = st.norm.ppf(1- (1 - confidence) / 2)\n",
    "    phat = 1.0 * up / n\n",
    "    return (phat + z * z / (2 * n) - z * math.sqrt((phat * (1 - phat) + z * z / (4 * n)) / n )) / (1 + z * z / n)"
   ]
  },
  {
   "cell_type": "markdown",
   "id": "93bf2cda",
   "metadata": {
    "papermill": {
     "duration": 0.017762,
     "end_time": "2023-11-08T12:32:28.771993",
     "exception": false,
     "start_time": "2023-11-08T12:32:28.754231",
     "status": "completed"
    },
    "tags": []
   },
   "source": [
    "\n",
    "> The Wilson Score Interval is a method for calculating the confidence interval of a proportion in a statistical manner. In the context of user reviews or ratings, the Wilson Score can be used to determine the confidence interval of the true underlying proportion of positive ratings given the observed proportion of positive ratings and the sample size. It's particularly useful in cases where the number of ratings or reviews might be small, as it takes into account both the number of positive ratings and the total number of ratings, providing a more accurate representation of the underlying sentiment. The Wilson Lower Bound Score, a variation of the Wilson Score, specifically focuses on the lower bound of the confidence interval, often used for ranking purposes, ensuring a minimum level of confidence in the calculated rating."
   ]
  },
  {
   "cell_type": "code",
   "execution_count": 39,
   "id": "e9289ac2",
   "metadata": {
    "execution": {
     "iopub.execute_input": "2023-11-08T12:32:28.807347Z",
     "iopub.status.busy": "2023-11-08T12:32:28.806969Z",
     "iopub.status.idle": "2023-11-08T12:32:28.815778Z",
     "shell.execute_reply": "2023-11-08T12:32:28.814262Z"
    },
    "papermill": {
     "duration": 0.028782,
     "end_time": "2023-11-08T12:32:28.817909",
     "exception": false,
     "start_time": "2023-11-08T12:32:28.789127",
     "status": "completed"
    },
    "tags": []
   },
   "outputs": [
    {
     "name": "stdout",
     "output_type": "stream",
     "text": [
      "0.5693094295142663\n",
      "0.5402319557715324\n",
      "0.3423802275066531\n",
      "0.9460328420055449\n"
     ]
    }
   ],
   "source": [
    "#as we can see on wilson lower bound score fixed our problem.\n",
    "print(wilson_lower_bound(600,400))\n",
    "\n",
    "print(wilson_lower_bound(5500, 4500))\n",
    "\n",
    "print(wilson_lower_bound(2, 0))\n",
    "\n",
    "print(wilson_lower_bound(100,1))"
   ]
  }
 ],
 "metadata": {
  "kernelspec": {
   "display_name": "Python 3",
   "language": "python",
   "name": "python3"
  },
  "language_info": {
   "codemirror_mode": {
    "name": "ipython",
    "version": 3
   },
   "file_extension": ".py",
   "mimetype": "text/x-python",
   "name": "python",
   "nbconvert_exporter": "python",
   "pygments_lexer": "ipython3",
   "version": "3.10.12"
  },
  "papermill": {
   "default_parameters": {},
   "duration": 7.611676,
   "end_time": "2023-11-08T12:32:29.355048",
   "environment_variables": {},
   "exception": null,
   "input_path": "__notebook__.ipynb",
   "output_path": "__notebook__.ipynb",
   "parameters": {},
   "start_time": "2023-11-08T12:32:21.743372",
   "version": "2.4.0"
  }
 },
 "nbformat": 4,
 "nbformat_minor": 5
}
